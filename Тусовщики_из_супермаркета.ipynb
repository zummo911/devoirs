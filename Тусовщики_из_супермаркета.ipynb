{
  "nbformat": 4,
  "nbformat_minor": 0,
  "metadata": {
    "colab": {
      "provenance": []
    },
    "kernelspec": {
      "name": "python3",
      "display_name": "Python 3"
    },
    "language_info": {
      "name": "python"
    }
  },
  "cells": [
    {
      "cell_type": "markdown",
      "source": [
        "```\n",
        "MIT License\n",
        "\n",
        "Copyright (c) 2023 Victoria Firsanova\n",
        "\n",
        "Permission is hereby granted, free of charge, to any person obtaining a copy of this software and associated documentation files (the \"Software\"), to deal in the Software without restriction, including without limitation the rights to use, copy, modify, merge, publish, distribute, sublicense, and/or sell copies of the Software, and to permit persons to whom the Software is furnished to do so, subject to the following conditions:\n",
        "\n",
        "The above copyright notice and this permission notice shall be included in all copies or substantial portions of the Software.\n",
        "\n",
        "THE SOFTWARE IS PROVIDED \"AS IS\", WITHOUT WARRANTY OF ANY KIND, EXPRESS OR IMPLIED, INCLUDING BUT NOT LIMITED TO THE WARRANTIES OF MERCHANTABILITY, FITNESS FOR A PARTICULAR PURPOSE AND NONINFRINGEMENT. IN NO EVENT SHALL THE AUTHORS OR COPYRIGHT HOLDERS BE LIABLE FOR ANY CLAIM, DAMAGES OR OTHER LIABILITY, WHETHER IN AN ACTION OF CONTRACT, TORT OR OTHERWISE, ARISING FROM, OUT OF OR IN CONNECTION WITH THE SOFTWARE OR THE USE OR OTHER DEALINGS IN THE SOFTWARE.\n",
        "```"
      ],
      "metadata": {
        "id": "6cQvzaYa5Z9C"
      }
    },
    {
      "cell_type": "markdown",
      "source": [
        "Работаем с Cinemagoer: https://cinemagoer.github.io/"
      ],
      "metadata": {
        "id": "NDJ9wtCQ24UT"
      }
    },
    {
      "cell_type": "code",
      "source": [
        "!pip install cinemagoer"
      ],
      "metadata": {
        "id": "dZB9wR7Cq6DP",
        "outputId": "fa9192ca-73bb-475b-d00c-b7e0046bb242",
        "colab": {
          "base_uri": "https://localhost:8080/"
        }
      },
      "execution_count": 2,
      "outputs": [
        {
          "output_type": "stream",
          "name": "stdout",
          "text": [
            "Collecting cinemagoer\n",
            "  Downloading cinemagoer-2023.5.1-py3-none-any.whl (297 kB)\n",
            "\u001b[?25l     \u001b[90m━━━━━━━━━━━━━━━━━━━━━━━━━━━━━━━━━━━━━━━━\u001b[0m \u001b[32m0.0/297.2 kB\u001b[0m \u001b[31m?\u001b[0m eta \u001b[36m-:--:--\u001b[0m\r\u001b[2K     \u001b[91m━━━━━━━━━━━━━━━━\u001b[0m\u001b[91m╸\u001b[0m\u001b[90m━━━━━━━━━━━━━━━━━━━━━━━\u001b[0m \u001b[32m122.9/297.2 kB\u001b[0m \u001b[31m3.9 MB/s\u001b[0m eta \u001b[36m0:00:01\u001b[0m\r\u001b[2K     \u001b[90m━━━━━━━━━━━━━━━━━━━━━━━━━━━━━━━━━━━━━━━━\u001b[0m \u001b[32m297.2/297.2 kB\u001b[0m \u001b[31m5.2 MB/s\u001b[0m eta \u001b[36m0:00:00\u001b[0m\n",
            "\u001b[?25hRequirement already satisfied: SQLAlchemy in /usr/local/lib/python3.10/dist-packages (from cinemagoer) (2.0.22)\n",
            "Requirement already satisfied: lxml in /usr/local/lib/python3.10/dist-packages (from cinemagoer) (4.9.3)\n",
            "Requirement already satisfied: typing-extensions>=4.2.0 in /usr/local/lib/python3.10/dist-packages (from SQLAlchemy->cinemagoer) (4.5.0)\n",
            "Requirement already satisfied: greenlet!=0.4.17 in /usr/local/lib/python3.10/dist-packages (from SQLAlchemy->cinemagoer) (3.0.0)\n",
            "Installing collected packages: cinemagoer\n",
            "Successfully installed cinemagoer-2023.5.1\n"
          ]
        }
      ]
    },
    {
      "cell_type": "code",
      "execution_count": 3,
      "metadata": {
        "id": "Zn7ebKaSjSmK"
      },
      "outputs": [],
      "source": [
        "from imdb import Cinemagoer\n",
        "\n",
        "ia = Cinemagoer()\n",
        "\n",
        "movie = ia.get_movie('0113749')"
      ]
    },
    {
      "cell_type": "code",
      "source": [
        "sorted(movie.keys())"
      ],
      "metadata": {
        "id": "TjihNPcKxD7s",
        "outputId": "df3fe8ea-16a0-4349-8a6c-10b27ea09fdf",
        "colab": {
          "base_uri": "https://localhost:8080/"
        }
      },
      "execution_count": 4,
      "outputs": [
        {
          "output_type": "execute_result",
          "data": {
            "text/plain": [
              "['akas',\n",
              " 'art department',\n",
              " 'art direction',\n",
              " 'aspect ratio',\n",
              " 'assistant director',\n",
              " 'box office',\n",
              " 'camera and electrical department',\n",
              " 'canonical title',\n",
              " 'cast',\n",
              " 'casting department',\n",
              " 'casting director',\n",
              " 'certificates',\n",
              " 'cinematographer',\n",
              " 'color info',\n",
              " 'composer',\n",
              " 'costume department',\n",
              " 'costume designer',\n",
              " 'countries',\n",
              " 'country codes',\n",
              " 'cover url',\n",
              " 'director',\n",
              " 'distributors',\n",
              " 'editor',\n",
              " 'editorial department',\n",
              " 'full-size cover url',\n",
              " 'genres',\n",
              " 'imdbID',\n",
              " 'kind',\n",
              " 'language codes',\n",
              " 'languages',\n",
              " 'localized title',\n",
              " 'location management',\n",
              " 'long imdb canonical title',\n",
              " 'long imdb title',\n",
              " 'make up',\n",
              " 'miscellaneous crew',\n",
              " 'music department',\n",
              " 'original air date',\n",
              " 'original title',\n",
              " 'other companies',\n",
              " 'plot',\n",
              " 'plot outline',\n",
              " 'producer',\n",
              " 'production companies',\n",
              " 'production design',\n",
              " 'production manager',\n",
              " 'rating',\n",
              " 'runtimes',\n",
              " 'script department',\n",
              " 'set decoration',\n",
              " 'smart canonical title',\n",
              " 'smart long imdb canonical title',\n",
              " 'sound crew',\n",
              " 'sound mix',\n",
              " 'special effects',\n",
              " 'special effects companies',\n",
              " 'stunt performer',\n",
              " 'synopsis',\n",
              " 'thanks',\n",
              " 'title',\n",
              " 'transportation department',\n",
              " 'videos',\n",
              " 'votes',\n",
              " 'writer',\n",
              " 'year']"
            ]
          },
          "metadata": {},
          "execution_count": 4
        }
      ]
    },
    {
      "cell_type": "markdown",
      "source": [
        "# Задачи на работу со строками"
      ],
      "metadata": {
        "id": "YN57OZzX0A-t"
      }
    },
    {
      "cell_type": "code",
      "source": [
        "for actor in movie['cast']:\n",
        "  print(f\"{actor} is an actor in {movie}\")"
      ],
      "metadata": {
        "id": "IHmsLx-YyPCG",
        "outputId": "4a0e4be2-feb6-40a2-d952-2fb5e21f4639",
        "colab": {
          "base_uri": "https://localhost:8080/"
        }
      },
      "execution_count": 5,
      "outputs": [
        {
          "output_type": "stream",
          "name": "stdout",
          "text": [
            "Shannen Doherty is an actor in Mallrats\n",
            "Jeremy London is an actor in Mallrats\n",
            "Jason Lee is an actor in Mallrats\n",
            "Claire Forlani is an actor in Mallrats\n",
            "Ben Affleck is an actor in Mallrats\n",
            "Joey Lauren Adams is an actor in Mallrats\n",
            "Renée Humphrey is an actor in Mallrats\n",
            "Jason Mewes is an actor in Mallrats\n",
            "Ethan Suplee is an actor in Mallrats\n",
            "Stan Lee is an actor in Mallrats\n",
            "Priscilla Barnes is an actor in Mallrats\n",
            "Michael Rooker is an actor in Mallrats\n",
            "Carol Banker is an actor in Mallrats\n",
            "Steven Blackwell is an actor in Mallrats\n",
            "Kyle Boe is an actor in Mallrats\n",
            "David Brinkley is an actor in Mallrats\n",
            "Walter Flanagan is an actor in Mallrats\n",
            "Ethan Flower is an actor in Mallrats\n",
            "Chelsea Frye is an actor in Mallrats\n",
            "Jeff Gadbois is an actor in Mallrats\n",
            "Ed Hapstak is an actor in Mallrats\n",
            "Terry Hempleman is an actor in Mallrats\n",
            "Art James is an actor in Mallrats\n",
            "Bryan Johnson is an actor in Mallrats\n",
            "Mikey Kovar is an actor in Mallrats\n",
            "David Klein is an actor in Mallrats\n",
            "Scott Mosier is an actor in Mallrats\n",
            "Crystal Muirhead-Manik is an actor in Mallrats\n",
            "Tyson Nassauer is an actor in Mallrats\n",
            "Brian O'Halloran is an actor in Mallrats\n",
            "Aaron Preusse is an actor in Mallrats\n",
            "Kevin Smith is an actor in Mallrats\n",
            "Britt Swenson is an actor in Mallrats\n",
            "Sven-Ole Thorsen is an actor in Mallrats\n",
            "Mary Woolever is an actor in Mallrats\n",
            "Brad Fox is an actor in Mallrats\n",
            "Gino Gori is an actor in Mallrats\n",
            "Zach Perkins is an actor in Mallrats\n",
            "Brad Gidding is an actor in Mallrats\n",
            "Bryce Mack is an actor in Mallrats\n",
            "Christopher O'Larkin is an actor in Mallrats\n",
            "Elizabeth Ashley is an actor in Mallrats\n",
            "Earl R. Burt is an actor in Mallrats\n",
            "Matthew McCloud is an actor in Mallrats\n",
            "Tammara Melloy is an actor in Mallrats\n",
            "Rachel Oliva is an actor in Mallrats\n",
            "Jessica Sibinski is an actor in Mallrats\n",
            "Nathan Stockwell is an actor in Mallrats\n",
            "Joel Thingvall is an actor in Mallrats\n"
          ]
        }
      ]
    },
    {
      "cell_type": "code",
      "source": [
        "synopsis = movie['synopsis'][0]\n",
        "\n",
        "lowsynopsis = synopsis.lower()\n",
        "\n",
        "print(lowsynopsis[0:100])\n",
        "\n",
        "movie_title = movie['original title']\n",
        "\n",
        "lowtitle = movie_title.lower()\n",
        "\n",
        "lowsynopsis.count(lowtitle)\n",
        "\n",
        "lowsynopsis.split()[0:10]"
      ],
      "metadata": {
        "id": "gWnW9d-9w9fC",
        "outputId": "30d58849-f7d2-45ea-b8e6-11a77cf84730",
        "colab": {
          "base_uri": "https://localhost:8080/"
        }
      },
      "execution_count": 6,
      "outputs": [
        {
          "output_type": "stream",
          "name": "stdout",
          "text": [
            "the story takes place in suburban new jersey. ts quint arrives at his girlfriend brandi svenning's, \n"
          ]
        },
        {
          "output_type": "execute_result",
          "data": {
            "text/plain": [
              "['the',\n",
              " 'story',\n",
              " 'takes',\n",
              " 'place',\n",
              " 'in',\n",
              " 'suburban',\n",
              " 'new',\n",
              " 'jersey.',\n",
              " 'ts',\n",
              " 'quint']"
            ]
          },
          "metadata": {},
          "execution_count": 6
        }
      ]
    },
    {
      "cell_type": "markdown",
      "source": [
        "# Задачи на работу со списками"
      ],
      "metadata": {
        "id": "V4_tbOOR7xlZ"
      }
    },
    {
      "cell_type": "code",
      "source": [
        "actors_list = []\n",
        "for actor in movie['cast']:\n",
        "  actors_list.append(actor['name'])\n",
        "print(actors_list[0:10])"
      ],
      "metadata": {
        "id": "p0XJ2Ib07wqf",
        "colab": {
          "base_uri": "https://localhost:8080/"
        },
        "outputId": "c57915b4-14d1-44d6-c3d9-dead61b15d72"
      },
      "execution_count": 24,
      "outputs": [
        {
          "output_type": "stream",
          "name": "stdout",
          "text": [
            "['Shannen Doherty', 'Jeremy London', 'Jason Lee', 'Claire Forlani', 'Ben Affleck', 'Joey Lauren Adams', 'Renée Humphrey', 'Jason Mewes', 'Ethan Suplee', 'Stan Lee']\n"
          ]
        }
      ]
    },
    {
      "cell_type": "code",
      "source": [
        "directors_list = []\n",
        "for director in movie['director']:\n",
        "  directors_list.append(director['name'])\n",
        "num_of_directors = len(directors_list)\n",
        "print(f\"Total number of directors = {num_of_directors}.\\nName of directors: {directors_list[0]}.\")"
      ],
      "metadata": {
        "id": "aVekoj5u8SgK",
        "colab": {
          "base_uri": "https://localhost:8080/"
        },
        "outputId": "774a1783-737b-435b-f9b3-12b31b78059c"
      },
      "execution_count": 8,
      "outputs": [
        {
          "output_type": "stream",
          "name": "stdout",
          "text": [
            "Total number of directors = 1.\n",
            "Name of directors: Kevin Smith.\n"
          ]
        }
      ]
    },
    {
      "cell_type": "code",
      "source": [
        "big_list = actors_list + directors_list\n",
        "print(big_list[0:3])\n",
        "print(big_list[-3:])"
      ],
      "metadata": {
        "id": "r4tYj-JE9qDD",
        "colab": {
          "base_uri": "https://localhost:8080/"
        },
        "outputId": "d2345e86-7f2d-4039-eaec-90afd5d280b1"
      },
      "execution_count": 9,
      "outputs": [
        {
          "output_type": "stream",
          "name": "stdout",
          "text": [
            "['Shannen Doherty', 'Jeremy London', 'Jason Lee']\n",
            "['Nathan Stockwell', 'Joel Thingvall', 'Kevin Smith']\n"
          ]
        }
      ]
    },
    {
      "cell_type": "code",
      "source": [
        "# выполните сортировку списка актеров по алфавиту\n",
        "\n",
        "sorted_actors = sorted(actors_list)\n",
        "\n",
        "# удалите в этом списке первый элемент с помощью индексации\n",
        "\n",
        "sorted_actors.pop(0)\n",
        "\n",
        "# удалите нелюбимого актера с помощью ввода имен\n",
        "\n",
        "some_actor = 'Renée Humphrey'\n",
        "sorted_actors.remove(some_actor)\n",
        "\n",
        "# проверьте, есть ли это имя в списке актеров с помощью in\n",
        "\n",
        "if some_actor in sorted_actors:\n",
        "  print(\"Catch him! He is in list!\")\n",
        "\n",
        "print(sorted_actors)\n",
        "\n"
      ],
      "metadata": {
        "id": "E2EWKiA6_Ech",
        "colab": {
          "base_uri": "https://localhost:8080/"
        },
        "outputId": "ee611389-3b17-4e42-92f7-b4db868870d5"
      },
      "execution_count": 10,
      "outputs": [
        {
          "output_type": "stream",
          "name": "stdout",
          "text": [
            "['Art James', 'Ben Affleck', 'Brad Fox', 'Brad Gidding', \"Brian O'Halloran\", 'Britt Swenson', 'Bryan Johnson', 'Bryce Mack', 'Carol Banker', 'Chelsea Frye', \"Christopher O'Larkin\", 'Claire Forlani', 'Crystal Muirhead-Manik', 'David Brinkley', 'David Klein', 'Earl R. Burt', 'Ed Hapstak', 'Elizabeth Ashley', 'Ethan Flower', 'Ethan Suplee', 'Gino Gori', 'Jason Lee', 'Jason Mewes', 'Jeff Gadbois', 'Jeremy London', 'Jessica Sibinski', 'Joel Thingvall', 'Joey Lauren Adams', 'Kevin Smith', 'Kyle Boe', 'Mary Woolever', 'Matthew McCloud', 'Michael Rooker', 'Mikey Kovar', 'Nathan Stockwell', 'Priscilla Barnes', 'Rachel Oliva', 'Scott Mosier', 'Shannen Doherty', 'Stan Lee', 'Steven Blackwell', 'Sven-Ole Thorsen', 'Tammara Melloy', 'Terry Hempleman', 'Tyson Nassauer', 'Walter Flanagan', 'Zach Perkins']\n"
          ]
        }
      ]
    },
    {
      "cell_type": "markdown",
      "source": [
        "# Задачи на работу со словарями"
      ],
      "metadata": {
        "id": "8sRhKPLTFAuF"
      }
    },
    {
      "cell_type": "code",
      "source": [
        "# создадим карточку любого актера из нашего фильма\n",
        "\n",
        "people = ia.search_person(actors_list[4])\n",
        "\n",
        "for person in people:\n",
        "   print(person.personID, person['name'])"
      ],
      "metadata": {
        "id": "2PuExDCoEFG_",
        "colab": {
          "base_uri": "https://localhost:8080/"
        },
        "outputId": "34d1d210-67b7-4e1c-da80-e478df164bd3"
      },
      "execution_count": 11,
      "outputs": [
        {
          "output_type": "stream",
          "name": "stdout",
          "text": [
            "0000255 Ben Affleck\n",
            "0000182 Jennifer Lopez\n",
            "4260983 Sean Connolly Affleck\n",
            "4328699 Brian Affleck\n",
            "4406165 Ben Fleck\n",
            "8677653 John Affleck\n",
            "11875085 Cameron Affleck\n",
            "14877145 Christian Affleck\n",
            "6799802 Evelyn Affleck\n",
            "4887665 Sean Affleck\n",
            "12712008 Emerson Affleck\n",
            "9175844 Shannon Affleck\n",
            "13528000 Erin Affleck\n",
            "7934279 Austin Affleck\n",
            "11773868 John Affleck\n",
            "14277968 Ewan Affleck\n",
            "12653680 Jocelyn Affleck\n",
            "12929051 John Affleck-Graves\n"
          ]
        }
      ]
    },
    {
      "cell_type": "code",
      "source": [
        "# запишем в перменную только один результат\n",
        "\n",
        "person = ia.get_person(people[0].personID)"
      ],
      "metadata": {
        "id": "2x_WWik8Indr"
      },
      "execution_count": 12,
      "outputs": []
    },
    {
      "cell_type": "code",
      "source": [
        "person.keys()"
      ],
      "metadata": {
        "colab": {
          "base_uri": "https://localhost:8080/"
        },
        "id": "HWK3eAaQJL0S",
        "outputId": "ceece94b-381d-4f85-836c-67d90caa9618"
      },
      "execution_count": 13,
      "outputs": [
        {
          "output_type": "execute_result",
          "data": {
            "text/plain": [
              "['headshot',\n",
              " 'imdbID',\n",
              " 'name',\n",
              " 'filmography',\n",
              " 'canonical name',\n",
              " 'long imdb name',\n",
              " 'long imdb canonical name',\n",
              " 'full-size headshot']"
            ]
          },
          "metadata": {},
          "execution_count": 13
        }
      ]
    },
    {
      "cell_type": "code",
      "source": [
        "person.items()"
      ],
      "metadata": {
        "id": "jRE3qJuUJoKv",
        "colab": {
          "base_uri": "https://localhost:8080/"
        },
        "outputId": "4cfc05dc-1dfe-49d6-fecd-f8a79a35db6a"
      },
      "execution_count": 14,
      "outputs": [
        {
          "output_type": "execute_result",
          "data": {
            "text/plain": [
              "[('headshot',\n",
              "  'https://m.media-amazon.com/images/M/MV5BMzczNzNiMDAtMmUzZS00MTkwLWIwOTYtNmYyNjg3MTVkNThhXkEyXkFqcGdeQXVyMjA4MjI5MTA@._V1_QL75_UY207_CR8,0,140,207_.jpg'),\n",
              " ('imdbID', '0000255'),\n",
              " ('name', 'Ben Affleck'),\n",
              " ('filmography',\n",
              "  {'producer': [<Movie id:13825848[http] title:_Keeper of the Lost Cities (None)_>,\n",
              "    <Movie id:5058504[http] title:_Thirst (None)_>,\n",
              "    <Movie id:5981922[http] title:_Witness for the Prosecution (None)_>,\n",
              "    <Movie id:4569538[http] title:_Apostle Paul (None)_>,\n",
              "    <Movie id:4341220[http] title:_Flash Before the Bang (None)_>,\n",
              "    <Movie id:3864060[http] title:_Unstoppable: The Anthony Robles Story (None)_>,\n",
              "    <Movie id:27196021[http] title:_Small Things Like These (None)_>,\n",
              "    <Movie id:24169886[http] title:_The Instigators (2024)_>,\n",
              "    <Movie id:23158470[http] title:_For people in trouble (2023)_>,\n",
              "    <Movie id:16419074[http] title:_Air (None)_>,\n",
              "    <Movie id:17022868[http] title:_Kiss the Future (2023)_>,\n",
              "    <Movie id:7187044[http] title:_City on a Hill (2022) (2019)_>,\n",
              "    <Movie id:4244994[http] title:_The Last Duel (2021)_>,\n",
              "    <Movie id:12361974[http] title:_Zack Snyder's Justice League (2021)_>,\n",
              "    <Movie id:0974015[http] title:_Justice League (2017)_>,\n",
              "    <Movie id:4118466[http] title:_Incorporated (2017) (2016)_>,\n",
              "    <Movie id:6370266[http] title:_Bending the Arc (2017)_>,\n",
              "    <Movie id:2361317[http] title:_Live by Night (2016)_>,\n",
              "    <Movie id:5647076[http] title:_The Runner (2016)_>,\n",
              "    <Movie id:5045592[http] title:_The Leisure Class (2015)_>,\n",
              "    <Movie id:0299368[http] title:_Project Greenlight (2015) (2001)_>,\n",
              "    <Movie id:3503352[http] title:_More Time with Family (2014)_>,\n",
              "    <Movie id:14293690[http] title:_Ben Affleck on the Meaning of Life (2012)_>,\n",
              "    <Movie id:1024648[http] title:_Argo (2012)_>,\n",
              "    <Movie id:1331024[http] title:_Reporter (2009)_>,\n",
              "    <Movie id:0426459[http] title:_Feast (2005)_>,\n",
              "    <Movie id:0778608[http] title:_All Grown Up (2003)_>,\n",
              "    <Movie id:0357470[http] title:_The Battle of Shaker Heights (2003)_>,\n",
              "    <Movie id:0326194[http] title:_Speakeasy (2002)_>,\n",
              "    <Movie id:0315701[http] title:_Push, Nevada (2002)_>,\n",
              "    <Movie id:0202623[http] title:_The Third Wheel (2002)_>,\n",
              "    <Movie id:0286162[http] title:_Stolen Summer (2002)_>,\n",
              "    <Movie id:0283296[http] title:_Crossing Cords (2001)_>],\n",
              "   'actor': [<Movie id:7068946[http] title:_Untitled Accountant Sequel (None)_>,\n",
              "    <Movie id:5981922[http] title:_Witness for the Prosecution (None)_>,\n",
              "    <Movie id:9663764[http] title:_Aquaman and the Lost Kingdom (2023)_>,\n",
              "    <Movie id:0439572[http] title:_The Flash (None)_>,\n",
              "    <Movie id:16419074[http] title:_Air (None)_>,\n",
              "    <Movie id:8080204[http] title:_Hypnotic (2023)_>,\n",
              "    <Movie id:11128440[http] title:_Clerks III (2022)_>,\n",
              "    <Movie id:2180339[http] title:_Deep Water (None)_>,\n",
              "    <Movie id:3108894[http] title:_The Tender Bar (2021)_>,\n",
              "    <Movie id:4244994[http] title:_The Last Duel (2021)_>,\n",
              "    <Movie id:12361974[http] title:_Zack Snyder's Justice League (2021)_>,\n",
              "    <Movie id:8544498[http] title:_The Way Back (None)_>,\n",
              "    <Movie id:7456312[http] title:_The Last Thing He Wanted (2020)_>,\n",
              "    <Movie id:6521876[http] title:_Jay and Silent Bob Reboot (2019)_>,\n",
              "    <Movie id:1488606[http] title:_Triple Frontier (2019)_>,\n",
              "    <Movie id:14279324[http] title:_Jimmy Kimmel's the Terrific Ten (2017)_>,\n",
              "    <Movie id:0974015[http] title:_Justice League (2017)_>,\n",
              "    <Movie id:2361317[http] title:_Live by Night (2016)_>,\n",
              "    <Movie id:2140479[http] title:_The Accountant (2016)_>,\n",
              "    <Movie id:1386697[http] title:_Suicide Squad (2016)_>,\n",
              "    <Movie id:2975590[http] title:_Batman v Superman: Dawn of Justice (2016)_>,\n",
              "    <Movie id:0320037[http] title:_Jimmy Kimmel Live! (2015)_>,\n",
              "    <Movie id:2267998[http] title:_Gone Girl (2014)_>,\n",
              "    <Movie id:2364841[http] title:_Runner Runner (2013)_>,\n",
              "    <Movie id:1595656[http] title:_To the Wonder (2012)_>,\n",
              "    <Movie id:1024648[http] title:_Argo (2012)_>,\n",
              "    <Movie id:0840361[http] title:_The Town (2010)_>,\n",
              "    <Movie id:1172991[http] title:_The Company Men (2010)_>,\n",
              "    <Movie id:0264235[http] title:_Curb Your Enthusiasm (2009)_>,\n",
              "    <Movie id:1225822[http] title:_Extract (2009)_>,\n",
              "    <Movie id:0473705[http] title:_State of Play (2009)_>,\n",
              "    <Movie id:1001508[http] title:_He's Just Not That Into You (2009)_>,\n",
              "    <Movie id:18304834[http] title:_Jimmy Kimmel & Ben Affleck: I'm Fucking Ben Affleck (2008)_>,\n",
              "    <Movie id:3492560[http] title:_Vanity Fair: Killers Kill, Dead Men Die (2007)_>,\n",
              "    <Movie id:0475394[http] title:_Smokin' Aces (2006)_>,\n",
              "    <Movie id:0427969[http] title:_Hollywoodland (2006)_>,\n",
              "    <Movie id:0424345[http] title:_Clerks II (2006)_>,\n",
              "    <Movie id:0420757[http] title:_Man About Town (2006)_>,\n",
              "    <Movie id:0252028[http] title:_Surviving Christmas (2004)_>,\n",
              "    <Movie id:27502695[http] title:_Paycheck: Alternate Ending (2004)_>,\n",
              "    <Movie id:27502658[http] title:_Paycheck: Deleted/Extended Scenes (2004)_>,\n",
              "    <Movie id:0300051[http] title:_Jersey Girl (2004)_>,\n",
              "    <Movie id:0338337[http] title:_Paycheck (2003)_>,\n",
              "    <Movie id:0299930[http] title:_Gigli (2003)_>,\n",
              "    <Movie id:0287978[http] title:_Daredevil (2003)_>,\n",
              "    <Movie id:21296486[http] title:_Changing Lanes: Deleted and Extended Scenes (2002)_>,\n",
              "    <Movie id:6833256[http] title:_Jennifer Lopez: Jenny from the Block (2002)_>,\n",
              "    <Movie id:0202623[http] title:_The Third Wheel (2002)_>,\n",
              "    <Movie id:0164184[http] title:_The Sum of All Fears (2002)_>,\n",
              "    <Movie id:0264472[http] title:_Changing Lanes (2002)_>,\n",
              "    <Movie id:0261392[http] title:_Jay and Silent Bob Strike Back (2001)_>,\n",
              "    <Movie id:0166158[http] title:_Daddy and Them (2001)_>,\n",
              "    <Movie id:0213149[http] title:_Pearl Harbor (2001)_>,\n",
              "    <Movie id:0072562[http] title:_Saturday Night Live (2001)_>,\n",
              "    <Movie id:27658541[http] title:_Chasing Amy: Deleted Scenes (2000)_>,\n",
              "    <Movie id:27658688[http] title:_Chasing Amy: Outtakes (2000)_>,\n",
              "    <Movie id:0186894[http] title:_Bounce (2000)_>,\n",
              "    <Movie id:0264734[http] title:_Joseph: King of Dreams (2000)_>,\n",
              "    <Movie id:0184858[http] title:_Reindeer Games (2000)_>,\n",
              "    <Movie id:0331625[http] title:_SNL Fanatic (2000)_>,\n",
              "    <Movie id:0181984[http] title:_Boiler Room (2000)_>,\n",
              "    <Movie id:27601094[http] title:_Mallrats: Deleted Scenes (1999)_>,\n",
              "    <Movie id:0120655[http] title:_Dogma (1999)_>,\n",
              "    <Movie id:0141098[http] title:_Forces of Nature (1999)_>,\n",
              "    <Movie id:0137338[http] title:_200 Cigarettes (1999)_>,\n",
              "    <Movie id:0138097[http] title:_Shakespeare in Love (1998)_>,\n",
              "    <Movie id:0120591[http] title:_Armageddon (1998)_>,\n",
              "    <Movie id:0119891[http] title:_Phantoms (1998)_>,\n",
              "    <Movie id:0119217[http] title:_Good Will Hunting (1997)_>,\n",
              "    <Movie id:0118842[http] title:_Chasing Amy (1997)_>,\n",
              "    <Movie id:0119209[http] title:_Going All the Way (1997)_>,\n",
              "    <Movie id:0113749[http] title:_Mallrats (1995)_>,\n",
              "    <Movie id:0116422[http] title:_Glory Daze (1995)_>,\n",
              "    <Movie id:0139780[http] title:_Lifestories: Families in Crisis (1994)_>,\n",
              "    <Movie id:0105934[http] title:_Against the Grain (1993)_>,\n",
              "    <Movie id:0106677[http] title:_Dazed and Confused (1993)_>,\n",
              "    <Movie id:0105939[http] title:_Almost Home (1993)_>,\n",
              "    <Movie id:0105327[http] title:_School Ties (1992)_>,\n",
              "    <Movie id:0103893[http] title:_Buffy the Vampire Slayer (1992)_>,\n",
              "    <Movie id:0101645[http] title:_Daddy (1991)_>,\n",
              "    <Movie id:0097351[http] title:_Field of Dreams (1989)_>,\n",
              "    <Movie id:0278695[http] title:_The Second Voyage of the Mimi (1988)_>,\n",
              "    <Movie id:0093141[http] title:_Hands of a Stranger (1987)_>,\n",
              "    <Movie id:0202179[http] title:_ABC Afterschool Specials (1986)_>,\n",
              "    <Movie id:0124265[http] title:_The Voyage of the Mimi (1984)_>,\n",
              "    <Movie id:0082234[http] title:_The Dark End of the Street (1981)_>],\n",
              "   'writer': [<Movie id:13825848[http] title:_Keeper of the Lost Cities (None)_>,\n",
              "    <Movie id:4244994[http] title:_The Last Duel (2021)_>,\n",
              "    <Movie id:2361317[http] title:_Live by Night (2016)_>,\n",
              "    <Movie id:0840361[http] title:_The Town (2010)_>,\n",
              "    <Movie id:0452623[http] title:_Gone Baby Gone (2007)_>,\n",
              "    <Movie id:0315701[http] title:_Push, Nevada (None)_>,\n",
              "    <Movie id:0119217[http] title:_Good Will Hunting (1997)_>],\n",
              "   'director': [<Movie id:13825848[http] title:_Keeper of the Lost Cities (None)_>,\n",
              "    <Movie id:5981922[http] title:_Witness for the Prosecution (None)_>,\n",
              "    <Movie id:16419074[http] title:_Air (None)_>,\n",
              "    <Movie id:2361317[http] title:_Live by Night (2016)_>,\n",
              "    <Movie id:1024648[http] title:_Argo (2012)_>,\n",
              "    <Movie id:0840361[http] title:_The Town (2010)_>,\n",
              "    <Movie id:1382721[http] title:_Gimme Shelter (2008)_>,\n",
              "    <Movie id:0452623[http] title:_Gone Baby Gone (2007)_>,\n",
              "    <Movie id:0166222[http] title:_I Killed My Lesbian Wife, Hung Her on a Meathook, and Now I Have a Three Picture Deal at Disney (1993)_>],\n",
              "   'soundtrack': [<Movie id:0320037[http] title:_Jimmy Kimmel Live! (2008)_>,\n",
              "    <Movie id:0427969[http] title:_Hollywoodland (2006)_>,\n",
              "    <Movie id:0252028[http] title:_Surviving Christmas (2004)_>,\n",
              "    <Movie id:0300051[http] title:_Jersey Girl (2004)_>,\n",
              "    <Movie id:0184858[http] title:_Reindeer Games (2000)_>,\n",
              "    <Movie id:0120591[http] title:_Armageddon (1998)_>],\n",
              "   'additional crew': [<Movie id:16419074[http] title:_Air (None)_>],\n",
              "   'thanks': [<Movie id:15771916[http] title:_You Hurt My Feelings (2023)_>,\n",
              "    <Movie id:11602542[http] title:_Bonnie (2022)_>,\n",
              "    <Movie id:5702636[http] title:_Night Job (2017)_>,\n",
              "    <Movie id:4872078[http] title:_The Intervention (None)_>,\n",
              "    <Movie id:3455224[http] title:_Virunga (2014)_>,\n",
              "    <Movie id:2391462[http] title:_Massholes (2012)_>,\n",
              "    <Movie id:0378927[http] title:_Turning It Over (2010)_>,\n",
              "    <Movie id:0790712[http] title:_The Messenger (None)_>,\n",
              "    <Movie id:0907848[http] title:_Dakota Skye (2008)_>,\n",
              "    <Movie id:1148297[http] title:_Smokin' Aces: The Big Gun (2007)_>,\n",
              "    <Movie id:0772155[http] title:_Back to the Well: Clerks II (2006)_>,\n",
              "    <Movie id:0407263[http] title:_Going Upriver (2004)_>,\n",
              "    <Movie id:0381045[http] title:_Beyond Hell's Kitchen: Making 'Daredevil' (2003)_>,\n",
              "    <Movie id:0362790[http] title:_Judge Not: In Defense of Dogma (2001)_>,\n",
              "    <Movie id:0261392[http] title:_Jay and Silent Bob Strike Back (2001)_>,\n",
              "    <Movie id:1013711[http] title:_Shakespeare in Love and on Film (1999)_>,\n",
              "    <Movie id:0417240[http] title:_View Askew's Look Back at 'Mallrats' (1999)_>,\n",
              "    <Movie id:0120655[http] title:_Dogma (1999)_>],\n",
              "   'self': [<Movie id:27838098[http] title:_Ben Affleck & Jennifer Lopez: Never Say Never (None)_>,\n",
              "    <Movie id:10827252[http] title:_The Drew Barrymore Show (2023)_>,\n",
              "    <Movie id:4280606[http] title:_The Late Late Show with James Corden (2023)_>,\n",
              "    <Movie id:0081857[http] title:_Entertainment Tonight (2023) (2003)_>,\n",
              "    <Movie id:8596744[http] title:_IMDb on the Scene - Interviews (2023) (2020)_>,\n",
              "    <Movie id:9022950[http] title:_The Kelly Clarkson Show (2023) (2020)_>,\n",
              "    <Movie id:0247094[http] title:_Extra (2023) (2003)_>,\n",
              "    <Movie id:0320037[http] title:_Jimmy Kimmel Live! (2023) (2008)_>,\n",
              "    <Movie id:0844203[http] title:_The One Show (2023)_>,\n",
              "    <Movie id:12825566[http] title:_SmartLess (2023)_>,\n",
              "    <Movie id:4607626[http] title:_Sneaker Shopping (2023)_>,\n",
              "    <Movie id:0072506[http] title:_Good Morning America (2023) (2012)_>,\n",
              "    <Movie id:0165001[http] title:_CBS News Sunday Morning (2023) (2012)_>,\n",
              "    <Movie id:21599288[http] title:_Ari Global show (2022)_>,\n",
              "    <Movie id:0167515[http] title:_Access Hollywood (2022) (2016)_>,\n",
              "    <Movie id:19637852[http] title:_Halftime (2022)_>,\n",
              "    <Movie id:18816208[http] title:_Jennifer Lopez & Maluma: Marry Me (2022)_>,\n",
              "    <Movie id:13862204[http] title:_Super Bowl LVI (2022)_>,\n",
              "    <Movie id:2835562[http] title:_The Morning Show (2022)_>,\n",
              "    <Movie id:8638066[http] title:_Hollywood Insider (2022) (2020)_>,\n",
              "    <Movie id:14761628[http] title:_Making of Zack Snyder's Justice League (2021)_>,\n",
              "    <Movie id:14657546[http] title:_The Bill Simmons Podcast (2021)_>,\n",
              "    <Movie id:12690356[http] title:_GMA3: What You Need to Know (2021)_>,\n",
              "    <Movie id:3444938[http] title:_The Tonight Show Starring Jimmy Fallon (2021) (2014)_>,\n",
              "    <Movie id:0315025[http] title:_Leute heute (2021)_>,\n",
              "    <Movie id:1973047[http] title:_Dish Nation (2021) (2018)_>,\n",
              "    <Movie id:14610452[http] title:_VAX LIVE: The Concert to Reunite the World (2021)_>,\n",
              "    <Movie id:0271894[http] title:_48 Hours (2021)_>,\n",
              "    <Movie id:14024448[http] title:_Clerk (2021)_>,\n",
              "    <Movie id:4267324[http] title:_Variety Studio: Actors on Actors (2021)_>,\n",
              "    <Movie id:14739860[http] title:_The Jess Cagle Podcast with Julia Cunningham (2021)_>,\n",
              "    <Movie id:12949672[http] title:_DC Fandome (2020)_>,\n",
              "    <Movie id:12179904[http] title:_Magnum Dopus: The Making of Jay and Silent Bob Reboot (2020)_>,\n",
              "    <Movie id:3503424[http] title:_Celebrity Page (2020) (2019)_>,\n",
              "    <Movie id:7648540[http] title:_Sister Circle Live (2020)_>,\n",
              "    <Movie id:5139360[http] title:_WGN Morning News (2020) (2017)_>,\n",
              "    <Movie id:1014785[http] title:_ESPN First Take (2020)_>,\n",
              "    <Movie id:0379623[http] title:_The Ellen DeGeneres Show (2019) (2004)_>,\n",
              "    <Movie id:0044298[http] title:_Today (2019) (2009)_>,\n",
              "    <Movie id:0096636[http] title:_Live with Kelly and Mark (2018) (2003)_>,\n",
              "    <Movie id:8245792[http] title:_Justice League: Heart of Justice (2018)_>,\n",
              "    <Movie id:8245716[http] title:_Justice League: Road to Justice (2018)_>,\n",
              "    <Movie id:8245908[http] title:_Suit Up: The Look of the League (2018)_>,\n",
              "    <Movie id:3697842[http] title:_The Late Show with Stephen Colbert (2017)_>,\n",
              "    <Movie id:4214198[http] title:_Laddie: The Man Behind the Movies (2017)_>,\n",
              "    <Movie id:5123584[http] title:_Rencontres de cinéma (2017) (2012)_>,\n",
              "    <Movie id:6986332[http] title:_The Red Nose Day Special (2017)_>,\n",
              "    <Movie id:6964264[http] title:_Matt Damon: Reel Life (2017)_>,\n",
              "    <Movie id:8547070[http] title:_Angels with Dirty Faces: The Women of 'Live By Night' (2017)_>,\n",
              "    <Movie id:8547234[http] title:_Live by Night: In Close-Up: Creating a Classic Car Chase (2017)_>,\n",
              "    <Movie id:8547214[http] title:_Live by Night's Prolific Author: Dennis Lehane (2017)_>,\n",
              "    <Movie id:8547154[http] title:_The Men of 'Live by Night' (2017)_>,\n",
              "    <Movie id:5850440[http] title:_The Oscars (2017)_>,\n",
              "    <Movie id:0911896[http] title:_Made in Hollywood (2017) (2010)_>,\n",
              "    <Movie id:0480279[http] title:_20 heures le journal (2017)_>,\n",
              "    <Movie id:5326328[http] title:_Popcorn with Peter Travers (2017)_>,\n",
              "    <Movie id:0924651[http] title:_The Graham Norton Show (2017) (2016)_>,\n",
              "    <Movie id:6426394[http] title:_The Accountant: Behavioral Science (2017)_>,\n",
              "    <Movie id:6426388[http] title:_The Accountant: Inside the Man (2017)_>,\n",
              "    <Movie id:6426406[http] title:_The Accountant in Action (2017)_>,\n",
              "    <Movie id:5824900[http] title:_The 74th Annual Golden Globe Awards 2017 (2017)_>,\n",
              "    <Movie id:0192897[http] title:_Film 2018 (2016) (2006)_>,\n",
              "    <Movie id:0430836[http] title:_The Insider (2016)_>,\n",
              "    <Movie id:5816346[http] title:_Stand Up to Cancer (2016)_>,\n",
              "    <Movie id:5916958[http] title:_Batcave: Legacy of the Lair (2016)_>,\n",
              "    <Movie id:5916948[http] title:_Batman: Austerity & Rage (2016)_>,\n",
              "    <Movie id:5916982[http] title:_Dawn of Justice: Save the Bats (2016)_>,\n",
              "    <Movie id:5916750[http] title:_Dawn of Justice: Uniting the World's Finest (2016)_>,\n",
              "    <Movie id:5916896[http] title:_Gods and Men: A Meeting of Giants (2016)_>,\n",
              "    <Movie id:5916960[http] title:_The Might and the Power of a Punch (2016)_>,\n",
              "    <Movie id:5874840[http] title:_Any Given Wednesday with Bill Simmons (2016)_>,\n",
              "    <Movie id:2576350[http] title:_Celebrity Style Story (2016)_>,\n",
              "    <Movie id:1637574[http] title:_Conan (2016)_>,\n",
              "    <Movie id:2163227[http] title:_CBS This Morning (2016) (2014)_>,\n",
              "    <Movie id:1434322[http] title:_Up Close with Carrie Keagan (2016) (2007)_>,\n",
              "    <Movie id:2787918[http] title:_Weekend Ticket (2016) (2014)_>,\n",
              "    <Movie id:5368216[http] title:_Rotten Tomatoes (2016)_>,\n",
              "    <Movie id:3612488[http] title:_The Noite com Danilo Gentili (2016)_>,\n",
              "    <Movie id:5355872[http] title:_Dawn of the Justice League (2016)_>,\n",
              "    <Movie id:0299368[http] title:_Project Greenlight (2015) (2001)_>,\n",
              "    <Movie id:4919390[http] title:_The 2015 ESPY Awards (2015)_>,\n",
              "    <Movie id:7914770[http] title:_MTV After Hours with Josh Horowitz (2015)_>,\n",
              "    <Movie id:3674910[http] title:_The Oscars (2015)_>,\n",
              "    <Movie id:4397512[http] title:_The 41st Annual People's Choice Awards (2015)_>,\n",
              "    <Movie id:4196864[http] title:_Hollywood Film Awards (2014)_>,\n",
              "    <Movie id:2326517[http] title:_Finding Your Roots with Henry Louis Gates, Jr. (2014)_>,\n",
              "    <Movie id:0185065[http] title:_Fox and Friends (2014)_>,\n",
              "    <Movie id:3412000[http] title:_IMDb: What to Watch (2014)_>,\n",
              "    <Movie id:1095213[http] title:_TMZ on TV (2014)_>,\n",
              "    <Movie id:0350448[http] title:_Real Time with Bill Maher (2014) (2005)_>,\n",
              "    <Movie id:3746054[http] title:_Special Look (2014)_>,\n",
              "    <Movie id:0115147[http] title:_The Daily Show (2014) (2003)_>,\n",
              "    <Movie id:0800381[http] title:_World Premiere (2014)_>,\n",
              "    <Movie id:0266134[http] title:_E! News (2014)_>,\n",
              "    <Movie id:1430587[http] title:_Tosh.0 (2014)_>,\n",
              "    <Movie id:3477194[http] title:_20th Annual Screen Actors Guild Awards (2014)_>,\n",
              "    <Movie id:3262722[http] title:_71st Golden Globe Awards (2014)_>,\n",
              "    <Movie id:3834488[http] title:_Runner, Runner: House of Cards -the Inside Story of Online Poker (2014)_>,\n",
              "    <Movie id:5177044[http] title:_A Discussion with the Cast of Argo (2013)_>,\n",
              "    <Movie id:4478362[http] title:_Argo: Ben Affleck's Balancing Act (2013)_>,\n",
              "    <Movie id:4478356[http] title:_Argo: Declassified (2013)_>,\n",
              "    <Movie id:5177140[http] title:_Argo: The Istanbul Journey (2013)_>,\n",
              "    <Movie id:3576466[http] title:_Official 2013 World Series Film (2013)_>,\n",
              "    <Movie id:1231460[http] title:_Late Night with Jimmy Fallon (2013) (2012)_>,\n",
              "    <Movie id:1832727[http] title:_Only in America with Larry the Cable Guy (2013)_>,\n",
              "    <Movie id:16678160[http] title:_The Making of 'To the Wonder' (2013)_>,\n",
              "    <Movie id:3199440[http] title:_Guys Choice Awards 2013 (2013)_>,\n",
              "    <Movie id:11398236[http] title:_Bruce Weber's Hollywood for Vanity Fair (2013)_>,\n",
              "    <Movie id:0072562[http] title:_Saturday Night Live (2013) (1999)_>,\n",
              "    <Movie id:4346344[http] title:_E! Live from the Red Carpet (2013)_>,\n",
              "    <Movie id:0103569[http] title:_The Tonight Show with Jay Leno (2013) (1997)_>,\n",
              "    <Movie id:2461862[http] title:_The Oscars (2013)_>,\n",
              "    <Movie id:2723746[http] title:_Vanity Fair's Hollywood (2013)_>,\n",
              "    <Movie id:5177262[http] title:_Argo: Absolute Authenticity (2013)_>,\n",
              "    <Movie id:5177310[http] title:_Argo: The CIA and Hollywood Connection (2013)_>,\n",
              "    <Movie id:2708492[http] title:_EE British Academy Film Awards: Red Carpet Show (2013)_>,\n",
              "    <Movie id:2700610[http] title:_The EE British Academy Film Awards (2013)_>,\n",
              "    <Movie id:1907886[http] title:_Big Morning Buzz Live (2013) (2012)_>,\n",
              "    <Movie id:2660550[http] title:_19th Annual Screen Actors Guild Awards (2013)_>,\n",
              "    <Movie id:2547622[http] title:_Tales from the Warner Bros. Lot (2013)_>,\n",
              "    <Movie id:2604420[http] title:_70th Golden Globe Awards (2013)_>,\n",
              "    <Movie id:2644210[http] title:_Les Coulisses des Golden Globes (2013)_>,\n",
              "    <Movie id:2622478[http] title:_18th Annual Critics' Choice Movie Awards (2013)_>,\n",
              "    <Movie id:0326459[http] title:_The Barbara Walters Summer Special (2012) (2003)_>,\n",
              "    <Movie id:2276210[http] title:_The Hollywood Fast Lane (2012)_>,\n",
              "    <Movie id:0355143[http] title:_taff (2012) (2007)_>,\n",
              "    <Movie id:3110888[http] title:_Vivir de cine (2012)_>,\n",
              "    <Movie id:0111920[http] title:_Cinema 3 (2012) (2010)_>,\n",
              "    <Movie id:0390699[http] title:_Días de cine (2012)_>,\n",
              "    <Movie id:1796776[http] title:_Anderson Live (2012)_>,\n",
              "    <Movie id:1489335[http] title:_ES.TV HD (2012)_>,\n",
              "    <Movie id:0284767[http] title:_The Factor (2012) (2004)_>,\n",
              "    <Movie id:3234862[http] title:_Reel Junkie (2012)_>,\n",
              "    <Movie id:14293690[http] title:_Ben Affleck on the Meaning of Life (2012)_>,\n",
              "    <Movie id:2348814[http] title:_2012 Do Something Awards (2012)_>,\n",
              "    <Movie id:1723128[http] title:_CinemAbility: The Art of Inclusion (2012)_>,\n",
              "    <Movie id:2606208[http] title:_MSN Exclusives (2012)_>,\n",
              "    <Movie id:2132638[http] title:_Close Up (2011)_>,\n",
              "    <Movie id:2023505[http] title:_Guys Choice Awards 2011 (2011)_>,\n",
              "    <Movie id:1928311[http] title:_Unite for Japan (2011)_>,\n",
              "    <Movie id:1245693[http] title:_Made in Hollywood: Teen Edition (2011)_>,\n",
              "    <Movie id:3427756[http] title:_Ben's Boston (2010)_>,\n",
              "    <Movie id:5481910[http] title:_The Town: A Director's Journey (2010)_>,\n",
              "    <Movie id:2386723[http] title:_DP/30: Conversations About Movies (2010)_>,\n",
              "    <Movie id:1695352[http] title:_Daybreak (2010)_>,\n",
              "    <Movie id:1628741[http] title:_Hollywood Salutes Matt Damon: An American Cinematheque Tribute (2010)_>,\n",
              "    <Movie id:1672620[http] title:_Guys Choice (2010)_>,\n",
              "    <Movie id:1660414[http] title:_The Oprah Winfrey Oscar Special (2010)_>,\n",
              "    <Movie id:1587308[http] title:_Hope for Haiti Now: A Global Benefit for Earthquake Relief (2010)_>,\n",
              "    <Movie id:1518293[http] title:_Sundance Skippy (2010)_>,\n",
              "    <Movie id:1585566[http] title:_Extract: Mike Judge's Secret Recipe (2009)_>,\n",
              "    <Movie id:0090493[http] title:_The Oprah Winfrey Show (2009)_>,\n",
              "    <Movie id:5457804[http] title:_The Making of 'State of Play' (2009)_>,\n",
              "    <Movie id:1483037[http] title:_2009 World Series of Poker (2009)_>,\n",
              "    <Movie id:1405366[http] title:_Tracing Amy: The Chasing Amy Doc (2009)_>,\n",
              "    <Movie id:0318220[http] title:_HBO First Look (2009) (1999)_>,\n",
              "    <Movie id:0092322[http] title:_Biography (2008)_>,\n",
              "    <Movie id:5285532[http] title:_Capturing Authenticity: Casting 'Gone Baby Gone' (2008)_>,\n",
              "    <Movie id:5285510[http] title:_Going Home: Behind the Scenes with Ben Affleck (2008)_>,\n",
              "    <Movie id:0088550[http] title:_Larry King Live (2007) (2004)_>,\n",
              "    <Movie id:0241090[http] title:_Caiga quien caiga (2007)_>,\n",
              "    <Movie id:1324757[http] title:_Tellement People (2007)_>,\n",
              "    <Movie id:1958003[http] title:_Red Sox Baby (2007)_>,\n",
              "    <Movie id:1039942[http] title:_18th Annual GLAAD Media Awards (2007)_>,\n",
              "    <Movie id:0833875[http] title:_The 79th Annual Academy Awards (2007)_>,\n",
              "    <Movie id:14961702[http] title:_Hollywoodland: Re-Creating Old Hollywood (2007)_>,\n",
              "    <Movie id:0976020[http] title:_The 12th Annual Critics' Choice Awards (2007)_>,\n",
              "    <Movie id:0914790[http] title:_The 64th Annual Golden Globe Awards (2007)_>,\n",
              "    <Movie id:0772155[http] title:_Back to the Well: Clerks II (2006)_>,\n",
              "    <Movie id:0299302[http] title:_Friday Night with Jonathan Ross (2006)_>,\n",
              "    <Movie id:0806175[http] title:_Scream Awards 2006 (2006)_>,\n",
              "    <Movie id:0823156[http] title:_Train Wreck! (2006)_>,\n",
              "    <Movie id:0123366[http] title:_The View (2006) (2003)_>,\n",
              "    <Movie id:0787424[http] title:_The Top 5 Reasons You Can't Blame... (2006)_>,\n",
              "    <Movie id:0463397[http] title:_Corazón de... (2006) (2005)_>,\n",
              "    <Movie id:0315677[http] title:_HypaSpace (2006)_>,\n",
              "    <Movie id:0857287[http] title:_MovieReal: Hollywoodland (2006)_>,\n",
              "    <Movie id:1232381[http] title:_Movie Rush (2006)_>,\n",
              "    <Movie id:0256555[http] title:_Headline News (2006)_>,\n",
              "    <Movie id:0416365[http] title:_ESPN 25: Who's #1? (2006) (2004)_>,\n",
              "    <Movie id:0224861[http] title:_The Directors (2005)_>,\n",
              "    <Movie id:4866036[http] title:_Mallrats: The Erection of an Epic - The Making of Mallrats (2005)_>,\n",
              "    <Movie id:0847883[http] title:_Making Dazed (2005)_>,\n",
              "    <Movie id:0445772[http] title:_Tsunami Aid: A Concert of Hope (2005)_>,\n",
              "    <Movie id:0422285[http] title:_From Hong Kong to Hollywood: The Making of John Woo (2004)_>,\n",
              "    <Movie id:0396155[http] title:_Oh, What a Lovely Tea Party (2004)_>,\n",
              "    <Movie id:0423057[http] title:_Remembering the Future: Paycheck & the Worlds of Philip K. Dick (2004)_>,\n",
              "    <Movie id:0222560[http] title:_GMTV (2004)_>,\n",
              "    <Movie id:1264090[http] title:_How's Your News?: On the Campaign Trail (2004)_>,\n",
              "    <Movie id:0463399[http] title:_E! True Hollywood Story (2004) (2003)_>,\n",
              "    <Movie id:0430866[http] title:_2004 World Series (2004)_>,\n",
              "    <Movie id:0448136[http] title:_Surviving Christmas: Unwrapping the Comedy (2004)_>,\n",
              "    <Movie id:0363391[http] title:_World Poker Tour (2004)_>,\n",
              "    <Movie id:0354338[http] title:_T4 (2004)_>,\n",
              "    <Movie id:5354246[http] title:_Paycheck: Designing the Future (2004)_>,\n",
              "    <Movie id:5354286[http] title:_Retrofitting 'Paycheck' (2004)_>,\n",
              "    <Movie id:5354270[http] title:_Tempting Fate: The Stunts of 'Paycheck' (2004)_>,\n",
              "    <Movie id:0305056[http] title:_Last Call with Carson Daly (2004) (2003)_>,\n",
              "    <Movie id:0240267[http] title:_X-Play (2004)_>,\n",
              "    <Movie id:0103396[http] title:_Dateline NBC (2004)_>,\n",
              "    <Movie id:0167735[http] title:_Total Request Live (2004) (2002)_>,\n",
              "    <Movie id:1300797[http] title:_The Luvvies: The Awards the Stars Don't Want (2004)_>,\n",
              "    <Movie id:0389591[http] title:_Celebrity Poker Showdown (2004) (2003)_>,\n",
              "    <Movie id:0299374[http] title:_Richard & Judy (2004)_>,\n",
              "    <Movie id:0381045[http] title:_Beyond Hell's Kitchen: Making 'Daredevil' (2003)_>,\n",
              "    <Movie id:0270132[http] title:_El gordo y la flaca (2003)_>,\n",
              "    <Movie id:0273010[http] title:_Primer impacto (2003)_>,\n",
              "    <Movie id:0346243[http] title:_¡Despierta América! (2003)_>,\n",
              "    <Movie id:0357350[http] title:_4Pop (2003)_>,\n",
              "    <Movie id:0460475[http] title:_Jennifer Lopez: The Reel Me (2003)_>,\n",
              "    <Movie id:0381115[http] title:_The Curse of the Bambino (2003)_>,\n",
              "    <Movie id:0376434[http] title:_Tinseltown TV (2003)_>,\n",
              "    <Movie id:0346468[http] title:_The 75th Annual Academy Awards (2003)_>,\n",
              "    <Movie id:0848580[http] title:_Daytona 500: The Great American Race Pre-Race Show (2003)_>,\n",
              "    <Movie id:0112056[http] title:_Mad TV (2003)_>,\n",
              "    <Movie id:0360301[http] title:_Player$ (2003)_>,\n",
              "    <Movie id:0291604[http] title:_Dinner for Five (2003)_>,\n",
              "    <Movie id:5461946[http] title:_A Cautionary Tale: The Making of 'The Sum of All Fears' (2002)_>,\n",
              "    <Movie id:0329922[http] title:_Secrets of Superstar Fitness (2002)_>,\n",
              "    <Movie id:0481609[http] title:_Regis and Kelly in Prime Time (2002)_>,\n",
              "    <Movie id:0375950[http] title:_The Making of 'Changing Lanes' (2002)_>,\n",
              "    <Movie id:0317016[http] title:_RI: SE (2002)_>,\n",
              "    <Movie id:5358006[http] title:_Pearl Harbor: Boot Camp (2002)_>,\n",
              "    <Movie id:5357986[http] title:_Pearl Harbor: Production Diary (2002)_>,\n",
              "    <Movie id:0324947[http] title:_2002 MTV Movie Awards (2002)_>,\n",
              "    <Movie id:0096680[http] title:_Primetime (2002)_>,\n",
              "    <Movie id:1201593[http] title:_Stars: An Oscar's Party (2002)_>,\n",
              "    <Movie id:0297555[http] title:_Exclusif (2002)_>,\n",
              "    <Movie id:0364916[http] title:_The 59th Annual Golden Globe Awards (2002)_>,\n",
              "    <Movie id:0362790[http] title:_Judge Not: In Defense of Dogma (2001)_>,\n",
              "    <Movie id:0429665[http] title:_Beyond the Movie: Pearl Harbor (2001)_>,\n",
              "    <Movie id:0365397[http] title:_Journey to the Screen: The Making of 'Pearl Harbor' (2001)_>,\n",
              "    <Movie id:0328804[http] title:_The Teen Choice Awards 2001 (2001)_>,\n",
              "    <Movie id:0483221[http] title:_Mundo VIP (2001)_>,\n",
              "    <Movie id:0288408[http] title:_AFI's 100 Years... 100 Thrills: America's Most Heart-Pounding Movies (2001)_>,\n",
              "    <Movie id:1148753[http] title:_Live Lunch (2001)_>,\n",
              "    <Movie id:0192906[http] title:_The Late Late Show with Craig Kilborn (2001) (2000)_>,\n",
              "    <Movie id:0280387[http] title:_The 73rd Annual Academy Awards (2001)_>,\n",
              "    <Movie id:0169455[http] title:_Inside the Actors Studio (2001)_>,\n",
              "    <Movie id:1521185[http] title:_Lux (2000)_>,\n",
              "    <Movie id:9715862[http] title:_We All Dream of Oz (2000)_>,\n",
              "    <Movie id:0115338[http] title:_The Rosie O'Donnell Show (2000) (1998)_>,\n",
              "    <Movie id:6851386[http] title:_Reindeer Games: Set Pass (2000)_>,\n",
              "    <Movie id:0343328[http] title:_2000 Blockbuster Entertainment Awards (2000)_>,\n",
              "    <Movie id:0429484[http] title:_The 57th Annual Golden Globe Awards (2000)_>,\n",
              "    <Movie id:1013711[http] title:_Shakespeare in Love and on Film (1999)_>,\n",
              "    <Movie id:0417240[http] title:_View Askew's Look Back at 'Mallrats' (1999)_>,\n",
              "    <Movie id:0106052[http] title:_Late Night with Conan O'Brien (1999)_>,\n",
              "    <Movie id:0500149[http] title:_Saturday Night Live 25 (1999)_>,\n",
              "    <Movie id:0266212[http] title:_1999 MTV Movie Awards (1999)_>,\n",
              "    <Movie id:0199191[http] title:_Caiga quien caiga - CQC (1999)_>,\n",
              "    <Movie id:0266221[http] title:_The 71st Annual Academy Awards (1999)_>,\n",
              "    <Movie id:0443422[http] title:_5th Annual Screen Actors Guild Awards (1999)_>,\n",
              "    <Movie id:0108742[http] title:_Dennis Miller Live (1999)_>,\n",
              "    <Movie id:3609532[http] title:_1999 ESPY Awards (1999)_>,\n",
              "    <Movie id:0447822[http] title:_The 56th Annual Golden Globe Awards (1999)_>,\n",
              "    <Movie id:0284808[http] title:_The 70th Annual Academy Awards (1998)_>,\n",
              "    <Movie id:0859588[http] title:_The 55th Annual Golden Globe Awards (1998)_>,\n",
              "    <Movie id:1013648[http] title:_The Making of 'Good Will Hunting' (1997)_>],\n",
              "   'archive footage': [<Movie id:13891626[http] title:_Hollywood Celebrity (None)_>,\n",
              "    <Movie id:0081857[http] title:_Entertainment Tonight (2023) (2009)_>,\n",
              "    <Movie id:15481624[http] title:_Minty Comedic Arts (2023)_>,\n",
              "    <Movie id:1973047[http] title:_Dish Nation (2023) (2020)_>,\n",
              "    <Movie id:10573354[http] title:_CBS Evening News with Norah O'Donnell (2023)_>,\n",
              "    <Movie id:19638434[http] title:_FRO Thizzle Reviews (2023)_>,\n",
              "    <Movie id:25395096[http] title:_2022 Headlines. Highlights. And History (2022)_>,\n",
              "    <Movie id:22037116[http] title:_Proino mas (2022)_>,\n",
              "    <Movie id:11470296[http] title:_Staunch T.V. (2022)_>,\n",
              "    <Movie id:11602542[http] title:_Bonnie (2022)_>,\n",
              "    <Movie id:0247094[http] title:_Extra (2022) (2014)_>,\n",
              "    <Movie id:14401604[http] title:_Gutfeld! (2022)_>,\n",
              "    <Movie id:16404406[http] title:_//MOVIES - A Podcast About the Act of Cinema (2022)_>,\n",
              "    <Movie id:8356486[http] title:_The Matt Walsh Show (2022)_>,\n",
              "    <Movie id:13016298[http] title:_The Officer Tatum (2022)_>,\n",
              "    <Movie id:11489716[http] title:_Inside Edition Weekend (2021)_>,\n",
              "    <Movie id:0166442[http] title:_Inside Edition (2021) (2014)_>,\n",
              "    <Movie id:16273964[http] title:_World's Most Expensive Celeb Break Ups (2021)_>,\n",
              "    <Movie id:0167515[http] title:_Access Hollywood (2021) (2017)_>,\n",
              "    <Movie id:14844230[http] title:_The Great British Breakfast (2021)_>,\n",
              "    <Movie id:11612380[http] title:_The Story of Late Night (2021)_>,\n",
              "    <Movie id:0826215[http] title:_Morning Express with Robin Meade (2021)_>,\n",
              "    <Movie id:12336548[http] title:_The Hollywood Moment at Home Edition (2021)_>,\n",
              "    <Movie id:0315025[http] title:_Leute heute (2021)_>,\n",
              "    <Movie id:10813660[http] title:_Charisma on Command (2020)_>,\n",
              "    <Movie id:13128292[http] title:_537 Votes (2020)_>,\n",
              "    <Movie id:3503424[http] title:_Celebrity Page (2020) (2015)_>,\n",
              "    <Movie id:11469908[http] title:_Siempre, Luis (2020)_>,\n",
              "    <Movie id:9358228[http] title:_Untouchable (None)_>,\n",
              "    <Movie id:8081532[http] title:_La petite histoire des super-héros (2017)_>,\n",
              "    <Movie id:7268356[http] title:_The Andrew Klavan Show (2017)_>,\n",
              "    <Movie id:28452776[http] title:_12 Parsecs (2017)_>,\n",
              "    <Movie id:0430836[http] title:_The Insider (2017) (2014)_>,\n",
              "    <Movie id:0924651[http] title:_The Graham Norton Show (2017)_>,\n",
              "    <Movie id:3004000[http] title:_Film Hawk (2017)_>,\n",
              "    <Movie id:3644198[http] title:_Good Morning Britain (2017)_>,\n",
              "    <Movie id:0298674[http] title:_Lorraine (2017) (2016)_>,\n",
              "    <Movie id:6219844[http] title:_Work by Day, Live by Night (2017)_>,\n",
              "    <Movie id:6436780[http] title:_Hoy nos toca (2017)_>,\n",
              "    <Movie id:0355143[http] title:_taff (2016)_>,\n",
              "    <Movie id:6408344[http] title:_Social Justice: The Musical (2016)_>,\n",
              "    <Movie id:5338860[http] title:_Do They Know It? (2016)_>,\n",
              "    <Movie id:5243796[http] title:_Richard Linklater: Dream Is Destiny (2016)_>,\n",
              "    <Movie id:4823212[http] title:_The Drunken Peasants (2015)_>,\n",
              "    <Movie id:3214446[http] title:_Media Buzz (2015)_>,\n",
              "    <Movie id:0185065[http] title:_Fox and Friends (2014)_>,\n",
              "    <Movie id:3481232[http] title:_And the Oscar Goes to... (2014)_>,\n",
              "    <Movie id:5177082[http] title:_Argo: Tony Mendez on Tony Mendez (2013)_>,\n",
              "    <Movie id:0284767[http] title:_The Factor (2013) (2008)_>,\n",
              "    <Movie id:2841688[http] title:_Movie Guide (2013)_>,\n",
              "    <Movie id:3998550[http] title:_Rescued from Tehran: We Were There (2012)_>,\n",
              "    <Movie id:3646334[http] title:_1002 Momentos de la tele (2012)_>,\n",
              "    <Movie id:1002838[http] title:_Chelsea Lately (2012)_>,\n",
              "    <Movie id:0350448[http] title:_Real Time with Bill Maher (2010)_>,\n",
              "    <Movie id:1577139[http] title:_A polos 25 (2010)_>,\n",
              "    <Movie id:1600392[http] title:_Behind the Scenes with Joe Carnahan (2010)_>,\n",
              "    <Movie id:1577779[http] title:_Almost Famous III (2010)_>,\n",
              "    <Movie id:1723643[http] title:_Los mejores momentos de 'Sé lo que hicisteis' (2009)_>,\n",
              "    <Movie id:0429318[http] title:_The Biggest Loser (2009)_>,\n",
              "    <Movie id:1351089[http] title:_Almost Famous II (2009)_>,\n",
              "    <Movie id:0463399[http] title:_E! True Hollywood Story (2008) (2002)_>,\n",
              "    <Movie id:1190931[http] title:_American Greed (2008)_>,\n",
              "    <Movie id:1183149[http] title:_Oscar, que empiece el espectáculo (2008)_>,\n",
              "    <Movie id:0874656[http] title:_La rentadora (2007)_>,\n",
              "    <Movie id:1101386[http] title:_Movie Connections (2007)_>,\n",
              "    <Movie id:0391687[http] title:_Shownieuws (2007)_>,\n",
              "    <Movie id:0961117[http] title:_Manufacturing Dissent (2007)_>,\n",
              "    <Movie id:0969315[http] title:_Penélope, camino a los Oscar (2007)_>,\n",
              "    <Movie id:0969243[http] title:_Cómo conseguir un papel en Hollywood (2007)_>,\n",
              "    <Movie id:0958221[http] title:_101 Favorite Stars Way Back When (2007)_>,\n",
              "    <Movie id:1045653[http] title:_Saturday Night Live: The Best of Commercial Parodies (2006)_>,\n",
              "    <Movie id:0478824[http] title:_Saturday Night Live: The Best of Jimmy Fallon (2005)_>,\n",
              "    <Movie id:0437932[http] title:_Last Laugh '04 (2004)_>,\n",
              "    <Movie id:0420466[http] title:_VH1 Goes Inside (2004)_>,\n",
              "    <Movie id:0361596[http] title:_Fahrenheit 9/11 (2004)_>,\n",
              "    <Movie id:0403738[http] title:_Celebrities Uncensored (2004) (2003)_>,\n",
              "    <Movie id:0402720[http] title:_101 Biggest Celebrity Oops (2004)_>,\n",
              "    <Movie id:1676771[http] title:_Extra (2003)_>,\n",
              "    <Movie id:0385427[http] title:_It's Good to Be... (2003)_>,\n",
              "    <Movie id:0386607[http] title:_MTV Europe Music Awards 2003 (2003)_>,\n",
              "    <Movie id:0397406[http] title:_101 Most Shocking Moments in Entertainment (2003)_>,\n",
              "    <Movie id:5244716[http] title:_Daredevil: Featured Villain - Kingpin (2003)_>,\n",
              "    <Movie id:0486767[http] title:_Saturday Night Live: The Best of Molly Shannon (2001)_>,\n",
              "    <Movie id:0331518[http] title:_Aerosmith: I Don't Wanna Miss a Thing (1998)_>]}),\n",
              " ('canonical name', 'Affleck, Ben'),\n",
              " ('long imdb name', 'Ben Affleck'),\n",
              " ('long imdb canonical name', 'Affleck, Ben'),\n",
              " ('full-size headshot',\n",
              "  'https://m.media-amazon.com/images/M/MV5BMzczNzNiMDAtMmUzZS00MTkwLWIwOTYtNmYyNjg3MTVkNThhXkEyXkFqcGdeQXVyMjA4MjI5MTA@.jpg')]"
            ]
          },
          "metadata": {},
          "execution_count": 14
        }
      ]
    },
    {
      "cell_type": "code",
      "source": [
        "# составим из этих элементов карточку следующего вида\n",
        "\n",
        "# [\n",
        "#    актер :\n",
        "#             {\n",
        "#               фильмы : список фильмов\n",
        "#               жанры : список жанров\n",
        "#             }\n",
        "# ]\n",
        "#\n",
        "# начнем с созднания списка фильмов\n",
        "# создаем пустой список\n",
        "\n",
        "films = []\n",
        "for every_movie in person['filmography']['actor']:\n",
        "  films.append(every_movie)\n",
        "print(films)\n",
        "\n",
        "# для каждого фильма в person['filmography']['###']\n",
        "# вносим в список новый элемент\n",
        "\n",
        "###"
      ],
      "metadata": {
        "id": "rqL8zMq8JrTw",
        "colab": {
          "base_uri": "https://localhost:8080/"
        },
        "outputId": "6755d1df-887e-4756-9f61-6895e95ae3d9"
      },
      "execution_count": 15,
      "outputs": [
        {
          "output_type": "stream",
          "name": "stdout",
          "text": [
            "[<Movie id:7068946[http] title:_Untitled Accountant Sequel (None)_>, <Movie id:5981922[http] title:_Witness for the Prosecution (None)_>, <Movie id:9663764[http] title:_Aquaman and the Lost Kingdom (2023)_>, <Movie id:0439572[http] title:_The Flash (None)_>, <Movie id:16419074[http] title:_Air (None)_>, <Movie id:8080204[http] title:_Hypnotic (2023)_>, <Movie id:11128440[http] title:_Clerks III (2022)_>, <Movie id:2180339[http] title:_Deep Water (None)_>, <Movie id:3108894[http] title:_The Tender Bar (2021)_>, <Movie id:4244994[http] title:_The Last Duel (2021)_>, <Movie id:12361974[http] title:_Zack Snyder's Justice League (2021)_>, <Movie id:8544498[http] title:_The Way Back (None)_>, <Movie id:7456312[http] title:_The Last Thing He Wanted (2020)_>, <Movie id:6521876[http] title:_Jay and Silent Bob Reboot (2019)_>, <Movie id:1488606[http] title:_Triple Frontier (2019)_>, <Movie id:14279324[http] title:_Jimmy Kimmel's the Terrific Ten (2017)_>, <Movie id:0974015[http] title:_Justice League (2017)_>, <Movie id:2361317[http] title:_Live by Night (2016)_>, <Movie id:2140479[http] title:_The Accountant (2016)_>, <Movie id:1386697[http] title:_Suicide Squad (2016)_>, <Movie id:2975590[http] title:_Batman v Superman: Dawn of Justice (2016)_>, <Movie id:0320037[http] title:_Jimmy Kimmel Live! (2015)_>, <Movie id:2267998[http] title:_Gone Girl (2014)_>, <Movie id:2364841[http] title:_Runner Runner (2013)_>, <Movie id:1595656[http] title:_To the Wonder (2012)_>, <Movie id:1024648[http] title:_Argo (2012)_>, <Movie id:0840361[http] title:_The Town (2010)_>, <Movie id:1172991[http] title:_The Company Men (2010)_>, <Movie id:0264235[http] title:_Curb Your Enthusiasm (2009)_>, <Movie id:1225822[http] title:_Extract (2009)_>, <Movie id:0473705[http] title:_State of Play (2009)_>, <Movie id:1001508[http] title:_He's Just Not That Into You (2009)_>, <Movie id:18304834[http] title:_Jimmy Kimmel & Ben Affleck: I'm Fucking Ben Affleck (2008)_>, <Movie id:3492560[http] title:_Vanity Fair: Killers Kill, Dead Men Die (2007)_>, <Movie id:0475394[http] title:_Smokin' Aces (2006)_>, <Movie id:0427969[http] title:_Hollywoodland (2006)_>, <Movie id:0424345[http] title:_Clerks II (2006)_>, <Movie id:0420757[http] title:_Man About Town (2006)_>, <Movie id:0252028[http] title:_Surviving Christmas (2004)_>, <Movie id:27502695[http] title:_Paycheck: Alternate Ending (2004)_>, <Movie id:27502658[http] title:_Paycheck: Deleted/Extended Scenes (2004)_>, <Movie id:0300051[http] title:_Jersey Girl (2004)_>, <Movie id:0338337[http] title:_Paycheck (2003)_>, <Movie id:0299930[http] title:_Gigli (2003)_>, <Movie id:0287978[http] title:_Daredevil (2003)_>, <Movie id:21296486[http] title:_Changing Lanes: Deleted and Extended Scenes (2002)_>, <Movie id:6833256[http] title:_Jennifer Lopez: Jenny from the Block (2002)_>, <Movie id:0202623[http] title:_The Third Wheel (2002)_>, <Movie id:0164184[http] title:_The Sum of All Fears (2002)_>, <Movie id:0264472[http] title:_Changing Lanes (2002)_>, <Movie id:0261392[http] title:_Jay and Silent Bob Strike Back (2001)_>, <Movie id:0166158[http] title:_Daddy and Them (2001)_>, <Movie id:0213149[http] title:_Pearl Harbor (2001)_>, <Movie id:0072562[http] title:_Saturday Night Live (2001)_>, <Movie id:27658541[http] title:_Chasing Amy: Deleted Scenes (2000)_>, <Movie id:27658688[http] title:_Chasing Amy: Outtakes (2000)_>, <Movie id:0186894[http] title:_Bounce (2000)_>, <Movie id:0264734[http] title:_Joseph: King of Dreams (2000)_>, <Movie id:0184858[http] title:_Reindeer Games (2000)_>, <Movie id:0331625[http] title:_SNL Fanatic (2000)_>, <Movie id:0181984[http] title:_Boiler Room (2000)_>, <Movie id:27601094[http] title:_Mallrats: Deleted Scenes (1999)_>, <Movie id:0120655[http] title:_Dogma (1999)_>, <Movie id:0141098[http] title:_Forces of Nature (1999)_>, <Movie id:0137338[http] title:_200 Cigarettes (1999)_>, <Movie id:0138097[http] title:_Shakespeare in Love (1998)_>, <Movie id:0120591[http] title:_Armageddon (1998)_>, <Movie id:0119891[http] title:_Phantoms (1998)_>, <Movie id:0119217[http] title:_Good Will Hunting (1997)_>, <Movie id:0118842[http] title:_Chasing Amy (1997)_>, <Movie id:0119209[http] title:_Going All the Way (1997)_>, <Movie id:0113749[http] title:_Mallrats (1995)_>, <Movie id:0116422[http] title:_Glory Daze (1995)_>, <Movie id:0139780[http] title:_Lifestories: Families in Crisis (1994)_>, <Movie id:0105934[http] title:_Against the Grain (1993)_>, <Movie id:0106677[http] title:_Dazed and Confused (1993)_>, <Movie id:0105939[http] title:_Almost Home (1993)_>, <Movie id:0105327[http] title:_School Ties (1992)_>, <Movie id:0103893[http] title:_Buffy the Vampire Slayer (1992)_>, <Movie id:0101645[http] title:_Daddy (1991)_>, <Movie id:0097351[http] title:_Field of Dreams (1989)_>, <Movie id:0278695[http] title:_The Second Voyage of the Mimi (1988)_>, <Movie id:0093141[http] title:_Hands of a Stranger (1987)_>, <Movie id:0202179[http] title:_ABC Afterschool Specials (1986)_>, <Movie id:0124265[http] title:_The Voyage of the Mimi (1984)_>, <Movie id:0082234[http] title:_The Dark End of the Street (1981)_>]\n"
          ]
        }
      ]
    },
    {
      "cell_type": "code",
      "source": [
        "# теперь для каждого из найденных фильмов извлечем жанр\n",
        "# и тоже запишем все это в список\n",
        "\n",
        "# создаем пустой список для жанров\n",
        "\n",
        "genres = []\n",
        "for title in films[30:45]:\n",
        "  title_list = ia.search_movie('title')\n",
        "  gnr_list = ia.get_movie(title_list[0].movieID)\n",
        "  gnr_list2 = gnr_list['genres']\n",
        "\n",
        "genres.append(gnr_list2)\n",
        "\n",
        "\n",
        "\n",
        "# для каждого фильма из списка с фильмами\n",
        "# ищем подходящие фильмы в IMDB: ia.search_movie()\n",
        "# записываем в переменную ID этого фильма: ia.get_movie(movie.movieID)\n",
        "# извлекаем жанры, записываем во временную переменную\n",
        "# записываем жанры в список жанров"
      ],
      "metadata": {
        "id": "MdMA4jSBK5yZ"
      },
      "execution_count": 21,
      "outputs": []
    },
    {
      "cell_type": "code",
      "source": [
        "# наши жанры повторяются\n",
        "\n",
        "print(genres)"
      ],
      "metadata": {
        "colab": {
          "base_uri": "https://localhost:8080/"
        },
        "id": "8Z36xTMcK6Xs",
        "outputId": "f21d3e29-b03b-4feb-ef54-433ad72ea62d"
      },
      "execution_count": null,
      "outputs": [
        {
          "output_type": "stream",
          "name": "stdout",
          "text": [
            "[['Animation']]\n"
          ]
        }
      ]
    },
    {
      "cell_type": "code",
      "source": [
        "# преобразуем список во множество\n",
        "genres = set(genres)"
      ],
      "metadata": {
        "colab": {
          "base_uri": "https://localhost:8080/",
          "height": 191
        },
        "id": "CZoZrdoLNs0l",
        "outputId": "bd911146-07fb-446a-fb90-85b03923207a"
      },
      "execution_count": 25,
      "outputs": [
        {
          "output_type": "error",
          "ename": "TypeError",
          "evalue": "ignored",
          "traceback": [
            "\u001b[0;31m---------------------------------------------------------------------------\u001b[0m",
            "\u001b[0;31mTypeError\u001b[0m                                 Traceback (most recent call last)",
            "\u001b[0;32m<ipython-input-25-56e8eeb56ee8>\u001b[0m in \u001b[0;36m<cell line: 2>\u001b[0;34m()\u001b[0m\n\u001b[1;32m      1\u001b[0m \u001b[0;31m# преобразуем список во множество\u001b[0m\u001b[0;34m\u001b[0m\u001b[0;34m\u001b[0m\u001b[0m\n\u001b[0;32m----> 2\u001b[0;31m \u001b[0mgenres\u001b[0m \u001b[0;34m=\u001b[0m \u001b[0mset\u001b[0m\u001b[0;34m(\u001b[0m\u001b[0mgenres\u001b[0m\u001b[0;34m)\u001b[0m\u001b[0;34m\u001b[0m\u001b[0;34m\u001b[0m\u001b[0m\n\u001b[0m",
            "\u001b[0;31mTypeError\u001b[0m: unhashable type: 'list'"
          ]
        }
      ]
    },
    {
      "cell_type": "code",
      "source": [
        "\n",
        "cards = []\n",
        "for actor in movie['cast'][:10]:\n",
        "  actor_idx = ia.search_person(actor['name'])\n",
        "  actor_info = ia.get_person(actor_idx[0].personID)\n",
        ""
      ],
      "metadata": {
        "id": "_RtAgCoRN033",
        "colab": {
          "base_uri": "https://localhost:8080/",
          "height": 1000
        },
        "outputId": "fae52f4f-a492-4d75-cdd3-6340dc7d8c62"
      },
      "execution_count": 36,
      "outputs": [
        {
          "output_type": "stream",
          "name": "stderr",
          "text": [
            "2023-11-01 20:48:35,306 CRITICAL [imdbpy] /usr/local/lib/python3.10/dist-packages/imdb/_exceptions.py:32: IMDbDataAccessError exception raised; args: ({'errcode': None, 'errmsg': 'None', 'url': 'https://www.imdb.com/name/nm0582939/bio', 'proxy': '', 'exception type': 'IOError', 'original exception': URLError(TimeoutError('timed out'))},); kwds: {}\n",
            "Traceback (most recent call last):\n",
            "  File \"/usr/lib/python3.10/urllib/request.py\", line 1348, in do_open\n",
            "    h.request(req.get_method(), req.selector, req.data, headers,\n",
            "  File \"/usr/lib/python3.10/http/client.py\", line 1283, in request\n",
            "    self._send_request(method, url, body, headers, encode_chunked)\n",
            "  File \"/usr/lib/python3.10/http/client.py\", line 1329, in _send_request\n",
            "    self.endheaders(body, encode_chunked=encode_chunked)\n",
            "  File \"/usr/lib/python3.10/http/client.py\", line 1278, in endheaders\n",
            "    self._send_output(message_body, encode_chunked=encode_chunked)\n",
            "  File \"/usr/lib/python3.10/http/client.py\", line 1038, in _send_output\n",
            "    self.send(msg)\n",
            "  File \"/usr/lib/python3.10/http/client.py\", line 976, in send\n",
            "    self.connect()\n",
            "  File \"/usr/lib/python3.10/http/client.py\", line 1448, in connect\n",
            "    super().connect()\n",
            "  File \"/usr/lib/python3.10/http/client.py\", line 942, in connect\n",
            "    self.sock = self._create_connection(\n",
            "  File \"/usr/lib/python3.10/socket.py\", line 845, in create_connection\n",
            "    raise err\n",
            "  File \"/usr/lib/python3.10/socket.py\", line 833, in create_connection\n",
            "    sock.connect(sa)\n",
            "TimeoutError: timed out\n",
            "\n",
            "During handling of the above exception, another exception occurred:\n",
            "\n",
            "Traceback (most recent call last):\n",
            "  File \"/usr/local/lib/python3.10/dist-packages/imdb/parser/http/__init__.py\", line 233, in retrieve_unicode\n",
            "    response = uopener.open(url)\n",
            "  File \"/usr/lib/python3.10/urllib/request.py\", line 519, in open\n",
            "    response = self._open(req, data)\n",
            "  File \"/usr/lib/python3.10/urllib/request.py\", line 536, in _open\n",
            "    result = self._call_chain(self.handle_open, protocol, protocol +\n",
            "  File \"/usr/lib/python3.10/urllib/request.py\", line 496, in _call_chain\n",
            "    result = func(*args)\n",
            "  File \"/usr/lib/python3.10/urllib/request.py\", line 1391, in https_open\n",
            "    return self.do_open(http.client.HTTPSConnection, req,\n",
            "  File \"/usr/lib/python3.10/urllib/request.py\", line 1351, in do_open\n",
            "    raise URLError(err)\n",
            "urllib.error.URLError: <urlopen error timed out>\n",
            "CRITICAL:imdbpy:IMDbDataAccessError exception raised; args: ({'errcode': None, 'errmsg': 'None', 'url': 'https://www.imdb.com/name/nm0582939/bio', 'proxy': '', 'exception type': 'IOError', 'original exception': URLError(TimeoutError('timed out'))},); kwds: {}\n",
            "Traceback (most recent call last):\n",
            "  File \"/usr/lib/python3.10/urllib/request.py\", line 1348, in do_open\n",
            "    h.request(req.get_method(), req.selector, req.data, headers,\n",
            "  File \"/usr/lib/python3.10/http/client.py\", line 1283, in request\n",
            "    self._send_request(method, url, body, headers, encode_chunked)\n",
            "  File \"/usr/lib/python3.10/http/client.py\", line 1329, in _send_request\n",
            "    self.endheaders(body, encode_chunked=encode_chunked)\n",
            "  File \"/usr/lib/python3.10/http/client.py\", line 1278, in endheaders\n",
            "    self._send_output(message_body, encode_chunked=encode_chunked)\n",
            "  File \"/usr/lib/python3.10/http/client.py\", line 1038, in _send_output\n",
            "    self.send(msg)\n",
            "  File \"/usr/lib/python3.10/http/client.py\", line 976, in send\n",
            "    self.connect()\n",
            "  File \"/usr/lib/python3.10/http/client.py\", line 1448, in connect\n",
            "    super().connect()\n",
            "  File \"/usr/lib/python3.10/http/client.py\", line 942, in connect\n",
            "    self.sock = self._create_connection(\n",
            "  File \"/usr/lib/python3.10/socket.py\", line 845, in create_connection\n",
            "    raise err\n",
            "  File \"/usr/lib/python3.10/socket.py\", line 833, in create_connection\n",
            "    sock.connect(sa)\n",
            "TimeoutError: timed out\n",
            "\n",
            "During handling of the above exception, another exception occurred:\n",
            "\n",
            "Traceback (most recent call last):\n",
            "  File \"/usr/local/lib/python3.10/dist-packages/imdb/parser/http/__init__.py\", line 233, in retrieve_unicode\n",
            "    response = uopener.open(url)\n",
            "  File \"/usr/lib/python3.10/urllib/request.py\", line 519, in open\n",
            "    response = self._open(req, data)\n",
            "  File \"/usr/lib/python3.10/urllib/request.py\", line 536, in _open\n",
            "    result = self._call_chain(self.handle_open, protocol, protocol +\n",
            "  File \"/usr/lib/python3.10/urllib/request.py\", line 496, in _call_chain\n",
            "    result = func(*args)\n",
            "  File \"/usr/lib/python3.10/urllib/request.py\", line 1391, in https_open\n",
            "    return self.do_open(http.client.HTTPSConnection, req,\n",
            "  File \"/usr/lib/python3.10/urllib/request.py\", line 1351, in do_open\n",
            "    raise URLError(err)\n",
            "urllib.error.URLError: <urlopen error timed out>\n",
            "2023-11-01 20:48:35,310 CRITICAL [imdbpy] /usr/local/lib/python3.10/dist-packages/imdb/__init__.py:850: caught an exception retrieving or parsing \"biography\" info set for mopID \"0582939\" (accessSystem: http)\n",
            "Traceback (most recent call last):\n",
            "  File \"/usr/lib/python3.10/urllib/request.py\", line 1348, in do_open\n",
            "    h.request(req.get_method(), req.selector, req.data, headers,\n",
            "  File \"/usr/lib/python3.10/http/client.py\", line 1283, in request\n",
            "    self._send_request(method, url, body, headers, encode_chunked)\n",
            "  File \"/usr/lib/python3.10/http/client.py\", line 1329, in _send_request\n",
            "    self.endheaders(body, encode_chunked=encode_chunked)\n",
            "  File \"/usr/lib/python3.10/http/client.py\", line 1278, in endheaders\n",
            "    self._send_output(message_body, encode_chunked=encode_chunked)\n",
            "  File \"/usr/lib/python3.10/http/client.py\", line 1038, in _send_output\n",
            "    self.send(msg)\n",
            "  File \"/usr/lib/python3.10/http/client.py\", line 976, in send\n",
            "    self.connect()\n",
            "  File \"/usr/lib/python3.10/http/client.py\", line 1448, in connect\n",
            "    super().connect()\n",
            "  File \"/usr/lib/python3.10/http/client.py\", line 942, in connect\n",
            "    self.sock = self._create_connection(\n",
            "  File \"/usr/lib/python3.10/socket.py\", line 845, in create_connection\n",
            "    raise err\n",
            "  File \"/usr/lib/python3.10/socket.py\", line 833, in create_connection\n",
            "    sock.connect(sa)\n",
            "TimeoutError: timed out\n",
            "\n",
            "During handling of the above exception, another exception occurred:\n",
            "\n",
            "Traceback (most recent call last):\n",
            "  File \"/usr/local/lib/python3.10/dist-packages/imdb/parser/http/__init__.py\", line 233, in retrieve_unicode\n",
            "    response = uopener.open(url)\n",
            "  File \"/usr/lib/python3.10/urllib/request.py\", line 519, in open\n",
            "    response = self._open(req, data)\n",
            "  File \"/usr/lib/python3.10/urllib/request.py\", line 536, in _open\n",
            "    result = self._call_chain(self.handle_open, protocol, protocol +\n",
            "  File \"/usr/lib/python3.10/urllib/request.py\", line 496, in _call_chain\n",
            "    result = func(*args)\n",
            "  File \"/usr/lib/python3.10/urllib/request.py\", line 1391, in https_open\n",
            "    return self.do_open(http.client.HTTPSConnection, req,\n",
            "  File \"/usr/lib/python3.10/urllib/request.py\", line 1351, in do_open\n",
            "    raise URLError(err)\n",
            "urllib.error.URLError: <urlopen error timed out>\n",
            "\n",
            "During handling of the above exception, another exception occurred:\n",
            "\n",
            "Traceback (most recent call last):\n",
            "  File \"/usr/local/lib/python3.10/dist-packages/imdb/__init__.py\", line 848, in update\n",
            "    ret = method(mopID)\n",
            "  File \"/usr/local/lib/python3.10/dist-packages/imdb/parser/http/__init__.py\", line 706, in get_person_biography\n",
            "    cont = self._retrieve(self.urls['person_main'] % personID + 'bio')\n",
            "  File \"/usr/local/lib/python3.10/dist-packages/imdb/parser/http/__init__.py\", line 392, in _retrieve\n",
            "    ret = self.urlOpener.retrieve_unicode(url, size=size)\n",
            "  File \"/usr/local/lib/python3.10/dist-packages/imdb/parser/http/__init__.py\", line 261, in retrieve_unicode\n",
            "    raise IMDbDataAccessError(\n",
            "imdb._exceptions.IMDbDataAccessError: {'errcode': None, 'errmsg': 'None', 'url': 'https://www.imdb.com/name/nm0582939/bio', 'proxy': '', 'exception type': 'IOError', 'original exception': URLError(TimeoutError('timed out'))}\n",
            "CRITICAL:imdbpy:caught an exception retrieving or parsing \"biography\" info set for mopID \"0582939\" (accessSystem: http)\n",
            "Traceback (most recent call last):\n",
            "  File \"/usr/lib/python3.10/urllib/request.py\", line 1348, in do_open\n",
            "    h.request(req.get_method(), req.selector, req.data, headers,\n",
            "  File \"/usr/lib/python3.10/http/client.py\", line 1283, in request\n",
            "    self._send_request(method, url, body, headers, encode_chunked)\n",
            "  File \"/usr/lib/python3.10/http/client.py\", line 1329, in _send_request\n",
            "    self.endheaders(body, encode_chunked=encode_chunked)\n",
            "  File \"/usr/lib/python3.10/http/client.py\", line 1278, in endheaders\n",
            "    self._send_output(message_body, encode_chunked=encode_chunked)\n",
            "  File \"/usr/lib/python3.10/http/client.py\", line 1038, in _send_output\n",
            "    self.send(msg)\n",
            "  File \"/usr/lib/python3.10/http/client.py\", line 976, in send\n",
            "    self.connect()\n",
            "  File \"/usr/lib/python3.10/http/client.py\", line 1448, in connect\n",
            "    super().connect()\n",
            "  File \"/usr/lib/python3.10/http/client.py\", line 942, in connect\n",
            "    self.sock = self._create_connection(\n",
            "  File \"/usr/lib/python3.10/socket.py\", line 845, in create_connection\n",
            "    raise err\n",
            "  File \"/usr/lib/python3.10/socket.py\", line 833, in create_connection\n",
            "    sock.connect(sa)\n",
            "TimeoutError: timed out\n",
            "\n",
            "During handling of the above exception, another exception occurred:\n",
            "\n",
            "Traceback (most recent call last):\n",
            "  File \"/usr/local/lib/python3.10/dist-packages/imdb/parser/http/__init__.py\", line 233, in retrieve_unicode\n",
            "    response = uopener.open(url)\n",
            "  File \"/usr/lib/python3.10/urllib/request.py\", line 519, in open\n",
            "    response = self._open(req, data)\n",
            "  File \"/usr/lib/python3.10/urllib/request.py\", line 536, in _open\n",
            "    result = self._call_chain(self.handle_open, protocol, protocol +\n",
            "  File \"/usr/lib/python3.10/urllib/request.py\", line 496, in _call_chain\n",
            "    result = func(*args)\n",
            "  File \"/usr/lib/python3.10/urllib/request.py\", line 1391, in https_open\n",
            "    return self.do_open(http.client.HTTPSConnection, req,\n",
            "  File \"/usr/lib/python3.10/urllib/request.py\", line 1351, in do_open\n",
            "    raise URLError(err)\n",
            "urllib.error.URLError: <urlopen error timed out>\n",
            "\n",
            "During handling of the above exception, another exception occurred:\n",
            "\n",
            "Traceback (most recent call last):\n",
            "  File \"/usr/local/lib/python3.10/dist-packages/imdb/__init__.py\", line 848, in update\n",
            "    ret = method(mopID)\n",
            "  File \"/usr/local/lib/python3.10/dist-packages/imdb/parser/http/__init__.py\", line 706, in get_person_biography\n",
            "    cont = self._retrieve(self.urls['person_main'] % personID + 'bio')\n",
            "  File \"/usr/local/lib/python3.10/dist-packages/imdb/parser/http/__init__.py\", line 392, in _retrieve\n",
            "    ret = self.urlOpener.retrieve_unicode(url, size=size)\n",
            "  File \"/usr/local/lib/python3.10/dist-packages/imdb/parser/http/__init__.py\", line 261, in retrieve_unicode\n",
            "    raise IMDbDataAccessError(\n",
            "imdb._exceptions.IMDbDataAccessError: {'errcode': None, 'errmsg': 'None', 'url': 'https://www.imdb.com/name/nm0582939/bio', 'proxy': '', 'exception type': 'IOError', 'original exception': URLError(TimeoutError('timed out'))}\n"
          ]
        },
        {
          "output_type": "error",
          "ename": "IMDbDataAccessError",
          "evalue": "ignored",
          "traceback": [
            "\u001b[0;31m---------------------------------------------------------------------------\u001b[0m",
            "\u001b[0;31mTimeoutError\u001b[0m                              Traceback (most recent call last)",
            "\u001b[0;32m/usr/lib/python3.10/urllib/request.py\u001b[0m in \u001b[0;36mdo_open\u001b[0;34m(self, http_class, req, **http_conn_args)\u001b[0m\n\u001b[1;32m   1347\u001b[0m             \u001b[0;32mtry\u001b[0m\u001b[0;34m:\u001b[0m\u001b[0;34m\u001b[0m\u001b[0;34m\u001b[0m\u001b[0m\n\u001b[0;32m-> 1348\u001b[0;31m                 h.request(req.get_method(), req.selector, req.data, headers,\n\u001b[0m\u001b[1;32m   1349\u001b[0m                           encode_chunked=req.has_header('Transfer-encoding'))\n",
            "\u001b[0;32m/usr/lib/python3.10/http/client.py\u001b[0m in \u001b[0;36mrequest\u001b[0;34m(self, method, url, body, headers, encode_chunked)\u001b[0m\n\u001b[1;32m   1282\u001b[0m         \u001b[0;34m\"\"\"Send a complete request to the server.\"\"\"\u001b[0m\u001b[0;34m\u001b[0m\u001b[0;34m\u001b[0m\u001b[0m\n\u001b[0;32m-> 1283\u001b[0;31m         \u001b[0mself\u001b[0m\u001b[0;34m.\u001b[0m\u001b[0m_send_request\u001b[0m\u001b[0;34m(\u001b[0m\u001b[0mmethod\u001b[0m\u001b[0;34m,\u001b[0m \u001b[0murl\u001b[0m\u001b[0;34m,\u001b[0m \u001b[0mbody\u001b[0m\u001b[0;34m,\u001b[0m \u001b[0mheaders\u001b[0m\u001b[0;34m,\u001b[0m \u001b[0mencode_chunked\u001b[0m\u001b[0;34m)\u001b[0m\u001b[0;34m\u001b[0m\u001b[0;34m\u001b[0m\u001b[0m\n\u001b[0m\u001b[1;32m   1284\u001b[0m \u001b[0;34m\u001b[0m\u001b[0m\n",
            "\u001b[0;32m/usr/lib/python3.10/http/client.py\u001b[0m in \u001b[0;36m_send_request\u001b[0;34m(self, method, url, body, headers, encode_chunked)\u001b[0m\n\u001b[1;32m   1328\u001b[0m             \u001b[0mbody\u001b[0m \u001b[0;34m=\u001b[0m \u001b[0m_encode\u001b[0m\u001b[0;34m(\u001b[0m\u001b[0mbody\u001b[0m\u001b[0;34m,\u001b[0m \u001b[0;34m'body'\u001b[0m\u001b[0;34m)\u001b[0m\u001b[0;34m\u001b[0m\u001b[0;34m\u001b[0m\u001b[0m\n\u001b[0;32m-> 1329\u001b[0;31m         \u001b[0mself\u001b[0m\u001b[0;34m.\u001b[0m\u001b[0mendheaders\u001b[0m\u001b[0;34m(\u001b[0m\u001b[0mbody\u001b[0m\u001b[0;34m,\u001b[0m \u001b[0mencode_chunked\u001b[0m\u001b[0;34m=\u001b[0m\u001b[0mencode_chunked\u001b[0m\u001b[0;34m)\u001b[0m\u001b[0;34m\u001b[0m\u001b[0;34m\u001b[0m\u001b[0m\n\u001b[0m\u001b[1;32m   1330\u001b[0m \u001b[0;34m\u001b[0m\u001b[0m\n",
            "\u001b[0;32m/usr/lib/python3.10/http/client.py\u001b[0m in \u001b[0;36mendheaders\u001b[0;34m(self, message_body, encode_chunked)\u001b[0m\n\u001b[1;32m   1277\u001b[0m             \u001b[0;32mraise\u001b[0m \u001b[0mCannotSendHeader\u001b[0m\u001b[0;34m(\u001b[0m\u001b[0;34m)\u001b[0m\u001b[0;34m\u001b[0m\u001b[0;34m\u001b[0m\u001b[0m\n\u001b[0;32m-> 1278\u001b[0;31m         \u001b[0mself\u001b[0m\u001b[0;34m.\u001b[0m\u001b[0m_send_output\u001b[0m\u001b[0;34m(\u001b[0m\u001b[0mmessage_body\u001b[0m\u001b[0;34m,\u001b[0m \u001b[0mencode_chunked\u001b[0m\u001b[0;34m=\u001b[0m\u001b[0mencode_chunked\u001b[0m\u001b[0;34m)\u001b[0m\u001b[0;34m\u001b[0m\u001b[0;34m\u001b[0m\u001b[0m\n\u001b[0m\u001b[1;32m   1279\u001b[0m \u001b[0;34m\u001b[0m\u001b[0m\n",
            "\u001b[0;32m/usr/lib/python3.10/http/client.py\u001b[0m in \u001b[0;36m_send_output\u001b[0;34m(self, message_body, encode_chunked)\u001b[0m\n\u001b[1;32m   1037\u001b[0m         \u001b[0;32mdel\u001b[0m \u001b[0mself\u001b[0m\u001b[0;34m.\u001b[0m\u001b[0m_buffer\u001b[0m\u001b[0;34m[\u001b[0m\u001b[0;34m:\u001b[0m\u001b[0;34m]\u001b[0m\u001b[0;34m\u001b[0m\u001b[0;34m\u001b[0m\u001b[0m\n\u001b[0;32m-> 1038\u001b[0;31m         \u001b[0mself\u001b[0m\u001b[0;34m.\u001b[0m\u001b[0msend\u001b[0m\u001b[0;34m(\u001b[0m\u001b[0mmsg\u001b[0m\u001b[0;34m)\u001b[0m\u001b[0;34m\u001b[0m\u001b[0;34m\u001b[0m\u001b[0m\n\u001b[0m\u001b[1;32m   1039\u001b[0m \u001b[0;34m\u001b[0m\u001b[0m\n",
            "\u001b[0;32m/usr/lib/python3.10/http/client.py\u001b[0m in \u001b[0;36msend\u001b[0;34m(self, data)\u001b[0m\n\u001b[1;32m    975\u001b[0m             \u001b[0;32mif\u001b[0m \u001b[0mself\u001b[0m\u001b[0;34m.\u001b[0m\u001b[0mauto_open\u001b[0m\u001b[0;34m:\u001b[0m\u001b[0;34m\u001b[0m\u001b[0;34m\u001b[0m\u001b[0m\n\u001b[0;32m--> 976\u001b[0;31m                 \u001b[0mself\u001b[0m\u001b[0;34m.\u001b[0m\u001b[0mconnect\u001b[0m\u001b[0;34m(\u001b[0m\u001b[0;34m)\u001b[0m\u001b[0;34m\u001b[0m\u001b[0;34m\u001b[0m\u001b[0m\n\u001b[0m\u001b[1;32m    977\u001b[0m             \u001b[0;32melse\u001b[0m\u001b[0;34m:\u001b[0m\u001b[0;34m\u001b[0m\u001b[0;34m\u001b[0m\u001b[0m\n",
            "\u001b[0;32m/usr/lib/python3.10/http/client.py\u001b[0m in \u001b[0;36mconnect\u001b[0;34m(self)\u001b[0m\n\u001b[1;32m   1447\u001b[0m \u001b[0;34m\u001b[0m\u001b[0m\n\u001b[0;32m-> 1448\u001b[0;31m             \u001b[0msuper\u001b[0m\u001b[0;34m(\u001b[0m\u001b[0;34m)\u001b[0m\u001b[0;34m.\u001b[0m\u001b[0mconnect\u001b[0m\u001b[0;34m(\u001b[0m\u001b[0;34m)\u001b[0m\u001b[0;34m\u001b[0m\u001b[0;34m\u001b[0m\u001b[0m\n\u001b[0m\u001b[1;32m   1449\u001b[0m \u001b[0;34m\u001b[0m\u001b[0m\n",
            "\u001b[0;32m/usr/lib/python3.10/http/client.py\u001b[0m in \u001b[0;36mconnect\u001b[0;34m(self)\u001b[0m\n\u001b[1;32m    941\u001b[0m         \u001b[0msys\u001b[0m\u001b[0;34m.\u001b[0m\u001b[0maudit\u001b[0m\u001b[0;34m(\u001b[0m\u001b[0;34m\"http.client.connect\"\u001b[0m\u001b[0;34m,\u001b[0m \u001b[0mself\u001b[0m\u001b[0;34m,\u001b[0m \u001b[0mself\u001b[0m\u001b[0;34m.\u001b[0m\u001b[0mhost\u001b[0m\u001b[0;34m,\u001b[0m \u001b[0mself\u001b[0m\u001b[0;34m.\u001b[0m\u001b[0mport\u001b[0m\u001b[0;34m)\u001b[0m\u001b[0;34m\u001b[0m\u001b[0;34m\u001b[0m\u001b[0m\n\u001b[0;32m--> 942\u001b[0;31m         self.sock = self._create_connection(\n\u001b[0m\u001b[1;32m    943\u001b[0m             (self.host,self.port), self.timeout, self.source_address)\n",
            "\u001b[0;32m/usr/lib/python3.10/socket.py\u001b[0m in \u001b[0;36mcreate_connection\u001b[0;34m(address, timeout, source_address)\u001b[0m\n\u001b[1;32m    844\u001b[0m         \u001b[0;32mtry\u001b[0m\u001b[0;34m:\u001b[0m\u001b[0;34m\u001b[0m\u001b[0;34m\u001b[0m\u001b[0m\n\u001b[0;32m--> 845\u001b[0;31m             \u001b[0;32mraise\u001b[0m \u001b[0merr\u001b[0m\u001b[0;34m\u001b[0m\u001b[0;34m\u001b[0m\u001b[0m\n\u001b[0m\u001b[1;32m    846\u001b[0m         \u001b[0;32mfinally\u001b[0m\u001b[0;34m:\u001b[0m\u001b[0;34m\u001b[0m\u001b[0;34m\u001b[0m\u001b[0m\n",
            "\u001b[0;32m/usr/lib/python3.10/socket.py\u001b[0m in \u001b[0;36mcreate_connection\u001b[0;34m(address, timeout, source_address)\u001b[0m\n\u001b[1;32m    832\u001b[0m                 \u001b[0msock\u001b[0m\u001b[0;34m.\u001b[0m\u001b[0mbind\u001b[0m\u001b[0;34m(\u001b[0m\u001b[0msource_address\u001b[0m\u001b[0;34m)\u001b[0m\u001b[0;34m\u001b[0m\u001b[0;34m\u001b[0m\u001b[0m\n\u001b[0;32m--> 833\u001b[0;31m             \u001b[0msock\u001b[0m\u001b[0;34m.\u001b[0m\u001b[0mconnect\u001b[0m\u001b[0;34m(\u001b[0m\u001b[0msa\u001b[0m\u001b[0;34m)\u001b[0m\u001b[0;34m\u001b[0m\u001b[0;34m\u001b[0m\u001b[0m\n\u001b[0m\u001b[1;32m    834\u001b[0m             \u001b[0;31m# Break explicitly a reference cycle\u001b[0m\u001b[0;34m\u001b[0m\u001b[0;34m\u001b[0m\u001b[0m\n",
            "\u001b[0;31mTimeoutError\u001b[0m: timed out",
            "\nDuring handling of the above exception, another exception occurred:\n",
            "\u001b[0;31mURLError\u001b[0m                                  Traceback (most recent call last)",
            "\u001b[0;32m/usr/local/lib/python3.10/dist-packages/imdb/parser/http/__init__.py\u001b[0m in \u001b[0;36mretrieve_unicode\u001b[0;34m(self, url, size)\u001b[0m\n\u001b[1;32m    232\u001b[0m             \u001b[0muopener\u001b[0m\u001b[0;34m.\u001b[0m\u001b[0maddheaders\u001b[0m \u001b[0;34m=\u001b[0m \u001b[0mlist\u001b[0m\u001b[0;34m(\u001b[0m\u001b[0mself\u001b[0m\u001b[0;34m.\u001b[0m\u001b[0maddheaders\u001b[0m\u001b[0;34m)\u001b[0m\u001b[0;34m\u001b[0m\u001b[0;34m\u001b[0m\u001b[0m\n\u001b[0;32m--> 233\u001b[0;31m             \u001b[0mresponse\u001b[0m \u001b[0;34m=\u001b[0m \u001b[0muopener\u001b[0m\u001b[0;34m.\u001b[0m\u001b[0mopen\u001b[0m\u001b[0;34m(\u001b[0m\u001b[0murl\u001b[0m\u001b[0;34m)\u001b[0m\u001b[0;34m\u001b[0m\u001b[0;34m\u001b[0m\u001b[0m\n\u001b[0m\u001b[1;32m    234\u001b[0m             \u001b[0mcontent\u001b[0m \u001b[0;34m=\u001b[0m \u001b[0mresponse\u001b[0m\u001b[0;34m.\u001b[0m\u001b[0mread\u001b[0m\u001b[0;34m(\u001b[0m\u001b[0;34m)\u001b[0m\u001b[0;34m\u001b[0m\u001b[0;34m\u001b[0m\u001b[0m\n",
            "\u001b[0;32m/usr/lib/python3.10/urllib/request.py\u001b[0m in \u001b[0;36mopen\u001b[0;34m(self, fullurl, data, timeout)\u001b[0m\n\u001b[1;32m    518\u001b[0m         \u001b[0msys\u001b[0m\u001b[0;34m.\u001b[0m\u001b[0maudit\u001b[0m\u001b[0;34m(\u001b[0m\u001b[0;34m'urllib.Request'\u001b[0m\u001b[0;34m,\u001b[0m \u001b[0mreq\u001b[0m\u001b[0;34m.\u001b[0m\u001b[0mfull_url\u001b[0m\u001b[0;34m,\u001b[0m \u001b[0mreq\u001b[0m\u001b[0;34m.\u001b[0m\u001b[0mdata\u001b[0m\u001b[0;34m,\u001b[0m \u001b[0mreq\u001b[0m\u001b[0;34m.\u001b[0m\u001b[0mheaders\u001b[0m\u001b[0;34m,\u001b[0m \u001b[0mreq\u001b[0m\u001b[0;34m.\u001b[0m\u001b[0mget_method\u001b[0m\u001b[0;34m(\u001b[0m\u001b[0;34m)\u001b[0m\u001b[0;34m)\u001b[0m\u001b[0;34m\u001b[0m\u001b[0;34m\u001b[0m\u001b[0m\n\u001b[0;32m--> 519\u001b[0;31m         \u001b[0mresponse\u001b[0m \u001b[0;34m=\u001b[0m \u001b[0mself\u001b[0m\u001b[0;34m.\u001b[0m\u001b[0m_open\u001b[0m\u001b[0;34m(\u001b[0m\u001b[0mreq\u001b[0m\u001b[0;34m,\u001b[0m \u001b[0mdata\u001b[0m\u001b[0;34m)\u001b[0m\u001b[0;34m\u001b[0m\u001b[0;34m\u001b[0m\u001b[0m\n\u001b[0m\u001b[1;32m    520\u001b[0m \u001b[0;34m\u001b[0m\u001b[0m\n",
            "\u001b[0;32m/usr/lib/python3.10/urllib/request.py\u001b[0m in \u001b[0;36m_open\u001b[0;34m(self, req, data)\u001b[0m\n\u001b[1;32m    535\u001b[0m         \u001b[0mprotocol\u001b[0m \u001b[0;34m=\u001b[0m \u001b[0mreq\u001b[0m\u001b[0;34m.\u001b[0m\u001b[0mtype\u001b[0m\u001b[0;34m\u001b[0m\u001b[0;34m\u001b[0m\u001b[0m\n\u001b[0;32m--> 536\u001b[0;31m         result = self._call_chain(self.handle_open, protocol, protocol +\n\u001b[0m\u001b[1;32m    537\u001b[0m                                   '_open', req)\n",
            "\u001b[0;32m/usr/lib/python3.10/urllib/request.py\u001b[0m in \u001b[0;36m_call_chain\u001b[0;34m(self, chain, kind, meth_name, *args)\u001b[0m\n\u001b[1;32m    495\u001b[0m             \u001b[0mfunc\u001b[0m \u001b[0;34m=\u001b[0m \u001b[0mgetattr\u001b[0m\u001b[0;34m(\u001b[0m\u001b[0mhandler\u001b[0m\u001b[0;34m,\u001b[0m \u001b[0mmeth_name\u001b[0m\u001b[0;34m)\u001b[0m\u001b[0;34m\u001b[0m\u001b[0;34m\u001b[0m\u001b[0m\n\u001b[0;32m--> 496\u001b[0;31m             \u001b[0mresult\u001b[0m \u001b[0;34m=\u001b[0m \u001b[0mfunc\u001b[0m\u001b[0;34m(\u001b[0m\u001b[0;34m*\u001b[0m\u001b[0margs\u001b[0m\u001b[0;34m)\u001b[0m\u001b[0;34m\u001b[0m\u001b[0;34m\u001b[0m\u001b[0m\n\u001b[0m\u001b[1;32m    497\u001b[0m             \u001b[0;32mif\u001b[0m \u001b[0mresult\u001b[0m \u001b[0;32mis\u001b[0m \u001b[0;32mnot\u001b[0m \u001b[0;32mNone\u001b[0m\u001b[0;34m:\u001b[0m\u001b[0;34m\u001b[0m\u001b[0;34m\u001b[0m\u001b[0m\n",
            "\u001b[0;32m/usr/lib/python3.10/urllib/request.py\u001b[0m in \u001b[0;36mhttps_open\u001b[0;34m(self, req)\u001b[0m\n\u001b[1;32m   1390\u001b[0m         \u001b[0;32mdef\u001b[0m \u001b[0mhttps_open\u001b[0m\u001b[0;34m(\u001b[0m\u001b[0mself\u001b[0m\u001b[0;34m,\u001b[0m \u001b[0mreq\u001b[0m\u001b[0;34m)\u001b[0m\u001b[0;34m:\u001b[0m\u001b[0;34m\u001b[0m\u001b[0;34m\u001b[0m\u001b[0m\n\u001b[0;32m-> 1391\u001b[0;31m             return self.do_open(http.client.HTTPSConnection, req,\n\u001b[0m\u001b[1;32m   1392\u001b[0m                 context=self._context, check_hostname=self._check_hostname)\n",
            "\u001b[0;32m/usr/lib/python3.10/urllib/request.py\u001b[0m in \u001b[0;36mdo_open\u001b[0;34m(self, http_class, req, **http_conn_args)\u001b[0m\n\u001b[1;32m   1350\u001b[0m             \u001b[0;32mexcept\u001b[0m \u001b[0mOSError\u001b[0m \u001b[0;32mas\u001b[0m \u001b[0merr\u001b[0m\u001b[0;34m:\u001b[0m \u001b[0;31m# timeout error\u001b[0m\u001b[0;34m\u001b[0m\u001b[0;34m\u001b[0m\u001b[0m\n\u001b[0;32m-> 1351\u001b[0;31m                 \u001b[0;32mraise\u001b[0m \u001b[0mURLError\u001b[0m\u001b[0;34m(\u001b[0m\u001b[0merr\u001b[0m\u001b[0;34m)\u001b[0m\u001b[0;34m\u001b[0m\u001b[0;34m\u001b[0m\u001b[0m\n\u001b[0m\u001b[1;32m   1352\u001b[0m             \u001b[0mr\u001b[0m \u001b[0;34m=\u001b[0m \u001b[0mh\u001b[0m\u001b[0;34m.\u001b[0m\u001b[0mgetresponse\u001b[0m\u001b[0;34m(\u001b[0m\u001b[0;34m)\u001b[0m\u001b[0;34m\u001b[0m\u001b[0;34m\u001b[0m\u001b[0m\n",
            "\u001b[0;31mURLError\u001b[0m: <urlopen error timed out>",
            "\nDuring handling of the above exception, another exception occurred:\n",
            "\u001b[0;31mIMDbDataAccessError\u001b[0m                       Traceback (most recent call last)",
            "\u001b[0;32m<ipython-input-36-3b6a696cbac4>\u001b[0m in \u001b[0;36m<cell line: 2>\u001b[0;34m()\u001b[0m\n\u001b[1;32m      2\u001b[0m \u001b[0;32mfor\u001b[0m \u001b[0mactor\u001b[0m \u001b[0;32min\u001b[0m \u001b[0mmovie\u001b[0m\u001b[0;34m[\u001b[0m\u001b[0;34m'cast'\u001b[0m\u001b[0;34m]\u001b[0m\u001b[0;34m[\u001b[0m\u001b[0;34m:\u001b[0m\u001b[0;36m10\u001b[0m\u001b[0;34m]\u001b[0m\u001b[0;34m:\u001b[0m\u001b[0;34m\u001b[0m\u001b[0;34m\u001b[0m\u001b[0m\n\u001b[1;32m      3\u001b[0m   \u001b[0mactor_idx\u001b[0m \u001b[0;34m=\u001b[0m \u001b[0mia\u001b[0m\u001b[0;34m.\u001b[0m\u001b[0msearch_person\u001b[0m\u001b[0;34m(\u001b[0m\u001b[0mactor\u001b[0m\u001b[0;34m[\u001b[0m\u001b[0;34m'name'\u001b[0m\u001b[0;34m]\u001b[0m\u001b[0;34m)\u001b[0m\u001b[0;34m\u001b[0m\u001b[0;34m\u001b[0m\u001b[0m\n\u001b[0;32m----> 4\u001b[0;31m   \u001b[0mactor_info\u001b[0m \u001b[0;34m=\u001b[0m \u001b[0mia\u001b[0m\u001b[0;34m.\u001b[0m\u001b[0mget_person\u001b[0m\u001b[0;34m(\u001b[0m\u001b[0mactor_idx\u001b[0m\u001b[0;34m[\u001b[0m\u001b[0;36m0\u001b[0m\u001b[0;34m]\u001b[0m\u001b[0;34m.\u001b[0m\u001b[0mpersonID\u001b[0m\u001b[0;34m)\u001b[0m\u001b[0;34m\u001b[0m\u001b[0;34m\u001b[0m\u001b[0m\n\u001b[0m\u001b[1;32m      5\u001b[0m \u001b[0;34m\u001b[0m\u001b[0m\n",
            "\u001b[0;32m/usr/local/lib/python3.10/dist-packages/imdb/__init__.py\u001b[0m in \u001b[0;36mget_person\u001b[0;34m(self, personID, info, modFunct)\u001b[0m\n\u001b[1;32m    517\u001b[0m         \u001b[0;32mif\u001b[0m \u001b[0mmodFunct\u001b[0m \u001b[0;32mis\u001b[0m \u001b[0;32mnot\u001b[0m \u001b[0;32mNone\u001b[0m\u001b[0;34m:\u001b[0m\u001b[0;34m\u001b[0m\u001b[0;34m\u001b[0m\u001b[0m\n\u001b[1;32m    518\u001b[0m             \u001b[0mperson\u001b[0m\u001b[0;34m.\u001b[0m\u001b[0mset_mod_funct\u001b[0m\u001b[0;34m(\u001b[0m\u001b[0mmodFunct\u001b[0m\u001b[0;34m)\u001b[0m\u001b[0;34m\u001b[0m\u001b[0;34m\u001b[0m\u001b[0m\n\u001b[0;32m--> 519\u001b[0;31m         \u001b[0mself\u001b[0m\u001b[0;34m.\u001b[0m\u001b[0mupdate\u001b[0m\u001b[0;34m(\u001b[0m\u001b[0mperson\u001b[0m\u001b[0;34m,\u001b[0m \u001b[0minfo\u001b[0m\u001b[0;34m)\u001b[0m\u001b[0;34m\u001b[0m\u001b[0;34m\u001b[0m\u001b[0m\n\u001b[0m\u001b[1;32m    520\u001b[0m         \u001b[0;32mreturn\u001b[0m \u001b[0mperson\u001b[0m\u001b[0;34m\u001b[0m\u001b[0;34m\u001b[0m\u001b[0m\n\u001b[1;32m    521\u001b[0m \u001b[0;34m\u001b[0m\u001b[0m\n",
            "\u001b[0;32m/usr/local/lib/python3.10/dist-packages/imdb/__init__.py\u001b[0m in \u001b[0;36mupdate\u001b[0;34m(self, mop, info, override)\u001b[0m\n\u001b[1;32m    846\u001b[0m                 \u001b[0mmethod\u001b[0m \u001b[0;34m=\u001b[0m \u001b[0;32mlambda\u001b[0m \u001b[0;34m*\u001b[0m\u001b[0mx\u001b[0m\u001b[0;34m:\u001b[0m \u001b[0;34m{\u001b[0m\u001b[0;34m}\u001b[0m\u001b[0;34m\u001b[0m\u001b[0;34m\u001b[0m\u001b[0m\n\u001b[1;32m    847\u001b[0m             \u001b[0;32mtry\u001b[0m\u001b[0;34m:\u001b[0m\u001b[0;34m\u001b[0m\u001b[0;34m\u001b[0m\u001b[0m\n\u001b[0;32m--> 848\u001b[0;31m                 \u001b[0mret\u001b[0m \u001b[0;34m=\u001b[0m \u001b[0mmethod\u001b[0m\u001b[0;34m(\u001b[0m\u001b[0mmopID\u001b[0m\u001b[0;34m)\u001b[0m\u001b[0;34m\u001b[0m\u001b[0;34m\u001b[0m\u001b[0m\n\u001b[0m\u001b[1;32m    849\u001b[0m             \u001b[0;32mexcept\u001b[0m \u001b[0mException\u001b[0m\u001b[0;34m:\u001b[0m\u001b[0;34m\u001b[0m\u001b[0;34m\u001b[0m\u001b[0m\n\u001b[1;32m    850\u001b[0m                 _imdb_logger.critical(\n",
            "\u001b[0;32m/usr/local/lib/python3.10/dist-packages/imdb/parser/http/__init__.py\u001b[0m in \u001b[0;36mget_person_biography\u001b[0;34m(self, personID)\u001b[0m\n\u001b[1;32m    704\u001b[0m \u001b[0;34m\u001b[0m\u001b[0m\n\u001b[1;32m    705\u001b[0m     \u001b[0;32mdef\u001b[0m \u001b[0mget_person_biography\u001b[0m\u001b[0;34m(\u001b[0m\u001b[0mself\u001b[0m\u001b[0;34m,\u001b[0m \u001b[0mpersonID\u001b[0m\u001b[0;34m)\u001b[0m\u001b[0;34m:\u001b[0m\u001b[0;34m\u001b[0m\u001b[0;34m\u001b[0m\u001b[0m\n\u001b[0;32m--> 706\u001b[0;31m         \u001b[0mcont\u001b[0m \u001b[0;34m=\u001b[0m \u001b[0mself\u001b[0m\u001b[0;34m.\u001b[0m\u001b[0m_retrieve\u001b[0m\u001b[0;34m(\u001b[0m\u001b[0mself\u001b[0m\u001b[0;34m.\u001b[0m\u001b[0murls\u001b[0m\u001b[0;34m[\u001b[0m\u001b[0;34m'person_main'\u001b[0m\u001b[0;34m]\u001b[0m \u001b[0;34m%\u001b[0m \u001b[0mpersonID\u001b[0m \u001b[0;34m+\u001b[0m \u001b[0;34m'bio'\u001b[0m\u001b[0;34m)\u001b[0m\u001b[0;34m\u001b[0m\u001b[0;34m\u001b[0m\u001b[0m\n\u001b[0m\u001b[1;32m    707\u001b[0m         \u001b[0;32mreturn\u001b[0m \u001b[0mself\u001b[0m\u001b[0;34m.\u001b[0m\u001b[0mpProxy\u001b[0m\u001b[0;34m.\u001b[0m\u001b[0mbio_parser\u001b[0m\u001b[0;34m.\u001b[0m\u001b[0mparse\u001b[0m\u001b[0;34m(\u001b[0m\u001b[0mcont\u001b[0m\u001b[0;34m,\u001b[0m \u001b[0mgetRefs\u001b[0m\u001b[0;34m=\u001b[0m\u001b[0mself\u001b[0m\u001b[0;34m.\u001b[0m\u001b[0m_getRefs\u001b[0m\u001b[0;34m)\u001b[0m\u001b[0;34m\u001b[0m\u001b[0;34m\u001b[0m\u001b[0m\n\u001b[1;32m    708\u001b[0m \u001b[0;34m\u001b[0m\u001b[0m\n",
            "\u001b[0;32m/usr/local/lib/python3.10/dist-packages/imdb/parser/http/__init__.py\u001b[0m in \u001b[0;36m_retrieve\u001b[0;34m(self, url, size, _noCookies)\u001b[0m\n\u001b[1;32m    390\u001b[0m         \u001b[0;34m\"\"\"Retrieve the given URL.\"\"\"\u001b[0m\u001b[0;34m\u001b[0m\u001b[0;34m\u001b[0m\u001b[0m\n\u001b[1;32m    391\u001b[0m         \u001b[0mself\u001b[0m\u001b[0;34m.\u001b[0m\u001b[0m_http_logger\u001b[0m\u001b[0;34m.\u001b[0m\u001b[0mdebug\u001b[0m\u001b[0;34m(\u001b[0m\u001b[0;34m'fetching url %s (size: %d)'\u001b[0m\u001b[0;34m,\u001b[0m \u001b[0murl\u001b[0m\u001b[0;34m,\u001b[0m \u001b[0msize\u001b[0m\u001b[0;34m)\u001b[0m\u001b[0;34m\u001b[0m\u001b[0;34m\u001b[0m\u001b[0m\n\u001b[0;32m--> 392\u001b[0;31m         \u001b[0mret\u001b[0m \u001b[0;34m=\u001b[0m \u001b[0mself\u001b[0m\u001b[0;34m.\u001b[0m\u001b[0murlOpener\u001b[0m\u001b[0;34m.\u001b[0m\u001b[0mretrieve_unicode\u001b[0m\u001b[0;34m(\u001b[0m\u001b[0murl\u001b[0m\u001b[0;34m,\u001b[0m \u001b[0msize\u001b[0m\u001b[0;34m=\u001b[0m\u001b[0msize\u001b[0m\u001b[0;34m)\u001b[0m\u001b[0;34m\u001b[0m\u001b[0;34m\u001b[0m\u001b[0m\n\u001b[0m\u001b[1;32m    393\u001b[0m         \u001b[0;32mif\u001b[0m \u001b[0mPY2\u001b[0m \u001b[0;32mand\u001b[0m \u001b[0misinstance\u001b[0m\u001b[0;34m(\u001b[0m\u001b[0mret\u001b[0m\u001b[0;34m,\u001b[0m \u001b[0mstr\u001b[0m\u001b[0;34m)\u001b[0m\u001b[0;34m:\u001b[0m\u001b[0;34m\u001b[0m\u001b[0;34m\u001b[0m\u001b[0m\n\u001b[1;32m    394\u001b[0m             \u001b[0mret\u001b[0m \u001b[0;34m=\u001b[0m \u001b[0mret\u001b[0m\u001b[0;34m.\u001b[0m\u001b[0mdecode\u001b[0m\u001b[0;34m(\u001b[0m\u001b[0;34m'utf-8'\u001b[0m\u001b[0;34m)\u001b[0m\u001b[0;34m\u001b[0m\u001b[0;34m\u001b[0m\u001b[0m\n",
            "\u001b[0;32m/usr/local/lib/python3.10/dist-packages/imdb/parser/http/__init__.py\u001b[0m in \u001b[0;36mretrieve_unicode\u001b[0;34m(self, url, size)\u001b[0m\n\u001b[1;32m    259\u001b[0m                 \u001b[0;31m# Ensure that the Range header is removed.\u001b[0m\u001b[0;34m\u001b[0m\u001b[0;34m\u001b[0m\u001b[0m\n\u001b[1;32m    260\u001b[0m                 \u001b[0mself\u001b[0m\u001b[0;34m.\u001b[0m\u001b[0mdel_header\u001b[0m\u001b[0;34m(\u001b[0m\u001b[0;34m'Range'\u001b[0m\u001b[0;34m)\u001b[0m\u001b[0;34m\u001b[0m\u001b[0;34m\u001b[0m\u001b[0m\n\u001b[0;32m--> 261\u001b[0;31m             raise IMDbDataAccessError(\n\u001b[0m\u001b[1;32m    262\u001b[0m                 {'errcode': e.errno,\n\u001b[1;32m    263\u001b[0m                  \u001b[0;34m'errmsg'\u001b[0m\u001b[0;34m:\u001b[0m \u001b[0mstr\u001b[0m\u001b[0;34m(\u001b[0m\u001b[0me\u001b[0m\u001b[0;34m.\u001b[0m\u001b[0mstrerror\u001b[0m\u001b[0;34m)\u001b[0m\u001b[0;34m,\u001b[0m\u001b[0;34m\u001b[0m\u001b[0;34m\u001b[0m\u001b[0m\n",
            "\u001b[0;31mIMDbDataAccessError\u001b[0m: {'errcode': None, 'errmsg': 'None', 'url': 'https://www.imdb.com/name/nm0582939/bio', 'proxy': '', 'exception type': 'IOError', 'original exception': URLError(TimeoutError('timed out'))}"
          ]
        }
      ]
    },
    {
      "cell_type": "code",
      "source": [
        "#Пустые хранилища\n",
        "full_info = dict()\n",
        "genres_list = []\n",
        "years = []\n",
        "languages_list = []\n",
        "titles = []\n",
        "ratings = []"
      ],
      "metadata": {
        "id": "KIkutgebmTGc"
      },
      "execution_count": 28,
      "outputs": []
    },
    {
      "cell_type": "code",
      "source": [
        "if 'actor' in actor_info['filmography'].keys():\n",
        "    for i in range(5):\n",
        "      titles.append(actor_info['filmography']['actor'][i]['title'])\n",
        "else:\n",
        "    for i in range(5):\n",
        "      titles.append(actor_info['filmography']['actress'][i]['title'])"
      ],
      "metadata": {
        "id": "pjxwcxH9OTk3"
      },
      "execution_count": 32,
      "outputs": []
    },
    {
      "cell_type": "code",
      "source": [
        "for title in titles:\n",
        "    film_list = ia.search_movie(title)\n",
        "    film = ia.get_movie(film_list[0].movieID)\n",
        "    genres = film['genres'][:3]\n",
        "    genres_list.append(genres)\n",
        "    if 'year' in film.keys():\n",
        "      year = film['year']\n",
        "      years.append(year)\n",
        "    if 'languages' in film.keys():\n",
        "      languages = film['languages']\n",
        "      languages_list.append(languages[0])\n",
        "    if 'rating' in film.keys():\n",
        "      rating = film['rating']\n",
        "      ratings.append(rating)"
      ],
      "metadata": {
        "id": "sPE1W57QPNYp"
      },
      "execution_count": 33,
      "outputs": []
    },
    {
      "cell_type": "code",
      "source": [
        "  full_info['titles'] = titles\n",
        "  full_info['genres'] = set([item for row in genres_list for item in row])\n",
        "  full_info['years'] = set(years)\n",
        "  full_info['languages'] = set(languages_list)\n",
        "  cards.append({actor_info['canonical name']: full_info})"
      ],
      "metadata": {
        "id": "_lHn9dqon6-6"
      },
      "execution_count": 34,
      "outputs": []
    },
    {
      "cell_type": "code",
      "source": [
        "print(cards)"
      ],
      "metadata": {
        "colab": {
          "base_uri": "https://localhost:8080/"
        },
        "id": "Td3jCBvBos8j",
        "outputId": "43155607-860e-4e4c-e9e8-0f7fe8fc5eb9"
      },
      "execution_count": 35,
      "outputs": [
        {
          "output_type": "stream",
          "name": "stdout",
          "text": [
            "[{'Lee, Stan': {'titles': ['Starship Farragut Homecoming', 'Big Hero 6: The Series', 'Madness in the Method', 'Avengers: Endgame', 'Captain Marvel'], 'genres': {'Sci-Fi', 'Animation', 'Adventure', 'Crime', 'Comedy', 'Drama', 'Short', 'Action'}, 'years': {2017, 2019, 2021}, 'languages': {'English'}}}]\n"
          ]
        }
      ]
    },
    {
      "cell_type": "markdown",
      "source": [
        "Задание:\n",
        "\n",
        "- Создать карточки для 5 актеров одного (любого фильма) - можно больше, главное, чтобы ваш код масштабировался до любого количества актеров\n",
        "- В карточке каждого актера должна содержаться следующая информация:\n",
        " * фильмография в качестве актера\n",
        " * несколько жанров\n",
        " * год выпуска фильмов, где снимался актер\n",
        " * языки, на которых сняты эти фильмы\n",
        " * рейтинги этих фильмов\n",
        "\n",
        "Создание карточек должно быть автоматизировано: за один цикл работы программы должна создаваться одна карточка. Чтобы программа не работала слишком долго, можно сократить количество извлеченных фильмов до пяти, извлекать только один жанр, один язык, где их несколько.\n",
        "\n",
        "Если этого мало: используйте функции для своей работы (аргументами функции может быть количество актеров, количество фильмов и т.д.), добавьте к фильмографии синопсисы."
      ],
      "metadata": {
        "id": "d-Q6tLj6QVUj"
      }
    }
  ]
}