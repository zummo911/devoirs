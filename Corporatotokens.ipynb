{
  "nbformat": 4,
  "nbformat_minor": 0,
  "metadata": {
    "colab": {
      "provenance": []
    },
    "kernelspec": {
      "name": "python3",
      "display_name": "Python 3"
    },
    "language_info": {
      "name": "python"
    }
  },
  "cells": [
    {
      "cell_type": "code",
      "execution_count": 1,
      "metadata": {
        "id": "Kk883h78lHgb"
      },
      "outputs": [],
      "source": [
        "from gensim import corpora"
      ]
    },
    {
      "cell_type": "code",
      "source": [
        "def my_dict(corpus):\n",
        "\n",
        "  tokens = []\n",
        "  for text in corpus:\n",
        "    tokens.append(text.lower().split())\n",
        "    return corpora.Dictionary(tokens)\n",
        "\n",
        "print(my_dict(['The natural semantic metalanguage is a linguistic theory' , 'English is a popular language']))\n",
        "\n",
        "\n",
        "\n"
      ],
      "metadata": {
        "colab": {
          "base_uri": "https://localhost:8080/"
        },
        "id": "YnIijKX8lWuA",
        "outputId": "0de61754-c537-4417-a76b-739f555c928a"
      },
      "execution_count": 8,
      "outputs": [
        {
          "output_type": "stream",
          "name": "stdout",
          "text": [
            "Dictionary<8 unique tokens: ['a', 'is', 'linguistic', 'metalanguage', 'natural']...>\n"
          ]
        }
      ]
    }
  ]
}